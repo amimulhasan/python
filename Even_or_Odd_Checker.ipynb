{
  "nbformat": 4,
  "nbformat_minor": 0,
  "metadata": {
    "colab": {
      "provenance": [],
      "authorship_tag": "ABX9TyMe24tq+irNTFSdHYehaAgZ",
      "include_colab_link": true
    },
    "kernelspec": {
      "name": "python3",
      "display_name": "Python 3"
    },
    "language_info": {
      "name": "python"
    }
  },
  "cells": [
    {
      "cell_type": "markdown",
      "metadata": {
        "id": "view-in-github",
        "colab_type": "text"
      },
      "source": [
        "<a href=\"https://colab.research.google.com/github/amimulhasan/python/blob/main/Even_or_Odd_Checker.ipynb\" target=\"_parent\"><img src=\"https://colab.research.google.com/assets/colab-badge.svg\" alt=\"Open In Colab\"/></a>"
      ]
    },
    {
      "cell_type": "code",
      "execution_count": null,
      "metadata": {
        "id": "9lDz85RbV2-Q"
      },
      "outputs": [],
      "source": [
        "''' 104. Even or Odd Checker: Write a Python function called `even_or_odd` that takes an integer\n",
        "as input and returns “Even” if the number is even and “Odd” if the number is odd. Test the function with different numbers.\n",
        "'''\n",
        "def even_or_odd(number):\n",
        "    if number % 2 == 0:\n",
        "        return \"Even\"\n",
        "    else:\n",
        "        return \"Odd\"\n",
        "\n",
        "# Test the function with different numbers\n",
        "print(even_or_odd(10))  # Output: Even\n",
        "print(even_or_odd(7))   # Output: Odd\n",
        "print(even_or_odd(0))   # Output: Even\n",
        "print(even_or_odd(-3))  # Output: Odd\n",
        "print(even_or_odd(-8))  # Output: Even\n",
        "\n",
        "\n"
      ]
    }
  ]
}