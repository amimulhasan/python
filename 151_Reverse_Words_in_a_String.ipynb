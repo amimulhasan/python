{
  "nbformat": 4,
  "nbformat_minor": 0,
  "metadata": {
    "colab": {
      "provenance": [],
      "authorship_tag": "ABX9TyO4lbF2j5wkZ5JPOghY4fKT",
      "include_colab_link": true
    },
    "kernelspec": {
      "name": "python3",
      "display_name": "Python 3"
    },
    "language_info": {
      "name": "python"
    }
  },
  "cells": [
    {
      "cell_type": "markdown",
      "metadata": {
        "id": "view-in-github",
        "colab_type": "text"
      },
      "source": [
        "<a href=\"https://colab.research.google.com/github/amimulhasan/python/blob/main/151_Reverse_Words_in_a_String.ipynb\" target=\"_parent\"><img src=\"https://colab.research.google.com/assets/colab-badge.svg\" alt=\"Open In Colab\"/></a>"
      ]
    },
    {
      "cell_type": "code",
      "execution_count": null,
      "metadata": {
        "colab": {
          "base_uri": "https://localhost:8080/"
        },
        "id": "4EEkqmqrwMhE",
        "outputId": "d80df026-9349-436f-9ebb-600e63e5e0ce"
      },
      "outputs": [
        {
          "output_type": "stream",
          "name": "stdout",
          "text": [
            "world! Hello\n"
          ]
        }
      ],
      "source": [
        "def reverse_words(s):\n",
        "    words = s.strip().split()        # Remove leading/trailing spaces and split by whitespace\n",
        "    reversed_words = words[::-1]     # Reverse the list of words\n",
        "    return ' '.join(reversed_words)  # Join them with a single space\n",
        "s = \"  Hello   world!  \"\n",
        "result = reverse_words(s)\n",
        "print(result)\n"
      ]
    }
  ]
}