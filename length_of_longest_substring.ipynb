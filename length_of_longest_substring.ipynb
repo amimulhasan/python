{
  "nbformat": 4,
  "nbformat_minor": 0,
  "metadata": {
    "colab": {
      "provenance": [],
      "authorship_tag": "ABX9TyOyDlJAtYFvXutQHLM5prjt",
      "include_colab_link": true
    },
    "kernelspec": {
      "name": "python3",
      "display_name": "Python 3"
    },
    "language_info": {
      "name": "python"
    }
  },
  "cells": [
    {
      "cell_type": "markdown",
      "metadata": {
        "id": "view-in-github",
        "colab_type": "text"
      },
      "source": [
        "<a href=\"https://colab.research.google.com/github/amimulhasan/python/blob/main/length_of_longest_substring.ipynb\" target=\"_parent\"><img src=\"https://colab.research.google.com/assets/colab-badge.svg\" alt=\"Open In Colab\"/></a>"
      ]
    },
    {
      "cell_type": "code",
      "execution_count": 1,
      "metadata": {
        "id": "lBpy6PnVZU5I"
      },
      "outputs": [],
      "source": [
        "def length_of_longest_substring(s):\n",
        "    longest = \"\"\n",
        "    current = \"\"\n",
        "\n",
        "    for c in s:\n",
        "        if c in current:\n",
        "            current = current[current.index(c)+1:]\n",
        "        current += c\n",
        "        if len(current) > len(longest):\n",
        "            longest = current\n",
        "\n",
        "    return len(longest)\n"
      ]
    },
    {
      "cell_type": "code",
      "source": [
        "print(length_of_longest_substring(\"abcabcbb\"))  # Output: 3\n"
      ],
      "metadata": {
        "colab": {
          "base_uri": "https://localhost:8080/"
        },
        "id": "QCYyT-pNaCyt",
        "outputId": "a6a99194-c74e-4fd8-dc18-b25a59a1183b"
      },
      "execution_count": 2,
      "outputs": [
        {
          "output_type": "stream",
          "name": "stdout",
          "text": [
            "3\n"
          ]
        }
      ]
    }
  ]
}