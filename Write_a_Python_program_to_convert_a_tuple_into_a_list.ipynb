{
  "nbformat": 4,
  "nbformat_minor": 0,
  "metadata": {
    "colab": {
      "provenance": [],
      "authorship_tag": "ABX9TyO7Iqa8Ucs56y/2ARiCl/u0",
      "include_colab_link": true
    },
    "kernelspec": {
      "name": "python3",
      "display_name": "Python 3"
    },
    "language_info": {
      "name": "python"
    }
  },
  "cells": [
    {
      "cell_type": "markdown",
      "metadata": {
        "id": "view-in-github",
        "colab_type": "text"
      },
      "source": [
        "<a href=\"https://colab.research.google.com/github/amimulhasan/python/blob/main/Write_a_Python_program_to_convert_a_tuple_into_a_list.ipynb\" target=\"_parent\"><img src=\"https://colab.research.google.com/assets/colab-badge.svg\" alt=\"Open In Colab\"/></a>"
      ]
    },
    {
      "cell_type": "code",
      "execution_count": 1,
      "metadata": {
        "colab": {
          "base_uri": "https://localhost:8080/"
        },
        "id": "7-FPQj4VtwE7",
        "outputId": "bf07a58d-2733-475d-dcb1-71f8966a432b"
      },
      "outputs": [
        {
          "output_type": "stream",
          "name": "stdout",
          "text": [
            "(1, 3, 4, 5, 6, 7, 8)\n",
            "[1, 3, 4, 5, 6, 7, 8]\n"
          ]
        }
      ],
      "source": [
        "# Write a Python program to convert a tuple into a list\n",
        "my_tuple=(1,3,4,5,6,7,8)\n",
        "my_list=list(my_tuple)\n",
        "print(my_tuple)\n",
        "print(my_list)"
      ]
    },
    {
      "cell_type": "code",
      "source": [],
      "metadata": {
        "id": "3JJ39W1ouJsI"
      },
      "execution_count": null,
      "outputs": []
    }
  ]
}