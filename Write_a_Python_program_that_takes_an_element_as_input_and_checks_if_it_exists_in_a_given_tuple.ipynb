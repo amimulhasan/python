{
  "nbformat": 4,
  "nbformat_minor": 0,
  "metadata": {
    "colab": {
      "provenance": [],
      "authorship_tag": "ABX9TyNK0gBiI4SNT0iXGrrvynex",
      "include_colab_link": true
    },
    "kernelspec": {
      "name": "python3",
      "display_name": "Python 3"
    },
    "language_info": {
      "name": "python"
    }
  },
  "cells": [
    {
      "cell_type": "markdown",
      "metadata": {
        "id": "view-in-github",
        "colab_type": "text"
      },
      "source": [
        "<a href=\"https://colab.research.google.com/github/amimulhasan/python/blob/main/Write_a_Python_program_that_takes_an_element_as_input_and_checks_if_it_exists_in_a_given_tuple.ipynb\" target=\"_parent\"><img src=\"https://colab.research.google.com/assets/colab-badge.svg\" alt=\"Open In Colab\"/></a>"
      ]
    },
    {
      "cell_type": "code",
      "execution_count": null,
      "metadata": {
        "id": "5BLjK_VhZ9zC"
      },
      "outputs": [],
      "source": [
        "def check_element_in_tuple(tup, element):\n",
        "    return element in tup\n",
        "\n",
        "# Example tuple\n",
        "my_tuple = (10, 20, 30, 40, 50)\n",
        "\n",
        "# User input\n",
        "element = input(\"Enter an element to check: \")\n",
        "\n",
        "# Convert input to integer if applicable\n",
        "if element.isdigit():\n",
        "    element = int(element)\n",
        "\n",
        "# Check if element exists in tuple\n",
        "if check_element_in_tuple(my_tuple, element):\n",
        "    print(f\"{element} exists in the tuple.\")\n",
        "else:\n",
        "    print(f\"{element} does not exist in the tuple.\")\n"
      ]
    }
  ]
}