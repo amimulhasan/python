{
  "nbformat": 4,
  "nbformat_minor": 0,
  "metadata": {
    "colab": {
      "provenance": [],
      "authorship_tag": "ABX9TyN6/cJaAxiJxOBpgeutpef/",
      "include_colab_link": true
    },
    "kernelspec": {
      "name": "python3",
      "display_name": "Python 3"
    },
    "language_info": {
      "name": "python"
    }
  },
  "cells": [
    {
      "cell_type": "markdown",
      "metadata": {
        "id": "view-in-github",
        "colab_type": "text"
      },
      "source": [
        "<a href=\"https://colab.research.google.com/github/amimulhasan/python/blob/main/palindrome_number.ipynb\" target=\"_parent\"><img src=\"https://colab.research.google.com/assets/colab-badge.svg\" alt=\"Open In Colab\"/></a>"
      ]
    },
    {
      "cell_type": "code",
      "source": [
        "class Solution(object):\n",
        "    def isPalindrome(self, x):\n",
        "        \"\"\"\n",
        "        :type x: int\n",
        "        :rtype: bool\n",
        "        \"\"\"\n",
        "        # Negative numbers are not palindromes\n",
        "        # Also numbers ending with 0 (but not 0 itself) cannot be palindrome\n",
        "        if x < 0 or (x % 10 == 0 and x != 0):\n",
        "            return False\n",
        "\n",
        "        reversed_half = 0\n",
        "        while x > reversed_half:\n",
        "            reversed_half = reversed_half * 10 + x % 10\n",
        "            x //= 10\n",
        "\n",
        "        # For even length, x should equal reversed_half\n",
        "        # For odd length, we ignore the middle digit by reversed_half // 10\n",
        "        return x == reversed_half or x == reversed_half // 10\n"
      ],
      "metadata": {
        "id": "wh0APRVowLZ_"
      },
      "execution_count": null,
      "outputs": []
    },
    {
      "cell_type": "code",
      "source": [
        "sol = Solution()\n",
        "print(sol.isPalindrome(121))    # True\n",
        "print(sol.isPalindrome(-121))   # False\n",
        "print(sol.isPalindrome(10))     # False\n",
        "print(sol.isPalindrome(1221))   # True\n",
        "print(sol.isPalindrome(0))      # True\n"
      ],
      "metadata": {
        "colab": {
          "base_uri": "https://localhost:8080/"
        },
        "id": "pQ7TAEuxx67H",
        "outputId": "973e1145-a856-4975-d892-e1a2d57a14f1"
      },
      "execution_count": null,
      "outputs": [
        {
          "output_type": "stream",
          "name": "stdout",
          "text": [
            "True\n",
            "False\n",
            "False\n",
            "True\n",
            "True\n"
          ]
        }
      ]
    },
    {
      "cell_type": "code",
      "source": [
        "class Soluation(object):\n",
        "  def isPlaidrome(self,x):\n",
        "    # '''\n",
        "    # :type x:int\n",
        "    # :rtype :bool\n",
        "    # '''\n",
        "      if x<0 or (x%10==0 and x!=0):\n",
        "         return False\n",
        "      reversed_num=0\n",
        "      while x>reversed_num:\n",
        "        reversed_num=reversed_num*10+x%10\n",
        "        x//=10\n",
        "      return x==reversed_num or x==reversed_num//10\n",
        "\n",
        "\n",
        "s=Soluation()\n",
        "s.isPlaidrome()"
      ],
      "metadata": {
        "colab": {
          "base_uri": "https://localhost:8080/"
        },
        "id": "VdlnMk0kwNdu",
        "outputId": "f4253bb3-0ab9-4bf5-c534-19798070341d"
      },
      "execution_count": null,
      "outputs": [
        {
          "output_type": "execute_result",
          "data": {
            "text/plain": [
              "False"
            ]
          },
          "metadata": {},
          "execution_count": 9
        }
      ]
    },
    {
      "cell_type": "code",
      "source": [],
      "metadata": {
        "id": "z2DM-NAYyMMf"
      },
      "execution_count": null,
      "outputs": []
    }
  ]
}