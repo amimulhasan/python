{
  "nbformat": 4,
  "nbformat_minor": 0,
  "metadata": {
    "colab": {
      "provenance": [],
      "authorship_tag": "ABX9TyN4vin02gul7KE5kmRqlX8I",
      "include_colab_link": true
    },
    "kernelspec": {
      "name": "python3",
      "display_name": "Python 3"
    },
    "language_info": {
      "name": "python"
    }
  },
  "cells": [
    {
      "cell_type": "markdown",
      "metadata": {
        "id": "view-in-github",
        "colab_type": "text"
      },
      "source": [
        "<a href=\"https://colab.research.google.com/github/amimulhasan/python/blob/main/%F0%9F%93%9A_Simple_Library_Management_System_(OOP)_python_Copy_Edit.ipynb\" target=\"_parent\"><img src=\"https://colab.research.google.com/assets/colab-badge.svg\" alt=\"Open In Colab\"/></a>"
      ]
    },
    {
      "cell_type": "code",
      "execution_count": 1,
      "metadata": {
        "colab": {
          "base_uri": "https://localhost:8080/"
        },
        "id": "B0QmqO9xk7-j",
        "outputId": "703e690c-41db-4cb7-f2aa-021656a4be24"
      },
      "outputs": [
        {
          "output_type": "stream",
          "name": "stdout",
          "text": [
            "\n",
            "===== Library Management System =====\n",
            "1. Add Book\n",
            "2. View All Books\n",
            "3. Borrow Book\n",
            "4. Return Book\n",
            "5. Exit\n",
            "Enter your choice: 5\n",
            "👋 Exiting... Goodbye!\n"
          ]
        }
      ],
      "source": [
        "class Book:\n",
        "    def __init__(self, title, author):\n",
        "        self.title = title\n",
        "        self.author = author\n",
        "        self.available = True\n",
        "\n",
        "    def display_info(self):\n",
        "        status = \"Available\" if self.available else \"Borrowed\"\n",
        "        print(f\"📖 {self.title} by {self.author} - {status}\")\n",
        "\n",
        "\n",
        "class Library:\n",
        "    def __init__(self):\n",
        "        self.books = []\n",
        "\n",
        "    def add_book(self, book):\n",
        "        self.books.append(book)\n",
        "        print(\"✅ Book added to the library.\")\n",
        "\n",
        "    def display_books(self):\n",
        "        if not self.books:\n",
        "            print(\"❌ No books in the library.\")\n",
        "        else:\n",
        "            print(\"\\n📚 Book List:\")\n",
        "            for book in self.books:\n",
        "                book.display_info()\n",
        "\n",
        "    def borrow_book(self, title):\n",
        "        for book in self.books:\n",
        "            if book.title.lower() == title.lower() and book.available:\n",
        "                book.available = False\n",
        "                print(f\"✅ You have borrowed '{book.title}'\")\n",
        "                return\n",
        "        print(\"❌ Book not available or doesn't exist.\")\n",
        "\n",
        "    def return_book(self, title):\n",
        "        for book in self.books:\n",
        "            if book.title.lower() == title.lower() and not book.available:\n",
        "                book.available = True\n",
        "                print(f\"✅ You have returned '{book.title}'\")\n",
        "                return\n",
        "        print(\"❌ Book not found or wasn't borrowed.\")\n",
        "\n",
        "\n",
        "# Main program\n",
        "library = Library()\n",
        "\n",
        "while True:\n",
        "    print(\"\\n===== Library Management System =====\")\n",
        "    print(\"1. Add Book\")\n",
        "    print(\"2. View All Books\")\n",
        "    print(\"3. Borrow Book\")\n",
        "    print(\"4. Return Book\")\n",
        "    print(\"5. Exit\")\n",
        "\n",
        "    choice = input(\"Enter your choice: \")\n",
        "\n",
        "    if choice == '1':\n",
        "        title = input(\"Enter Book Title: \")\n",
        "        author = input(\"Enter Author Name: \")\n",
        "        book = Book(title, author)\n",
        "        library.add_book(book)\n",
        "\n",
        "    elif choice == '2':\n",
        "        library.display_books()\n",
        "\n",
        "    elif choice == '3':\n",
        "        title = input(\"Enter Book Title to Borrow: \")\n",
        "        library.borrow_book(title)\n",
        "\n",
        "    elif choice == '4':\n",
        "        title = input(\"Enter Book Title to Return: \")\n",
        "        library.return_book(title)\n",
        "\n",
        "    elif choice == '5':\n",
        "        print(\"👋 Exiting... Goodbye!\")\n",
        "        break\n",
        "\n",
        "    else:\n",
        "        print(\"⚠️ Invalid choice. Try again.\")\n"
      ]
    },
    {
      "cell_type": "code",
      "source": [
        "class Books:\n",
        "  def __init__(self,title,author):\n",
        "    self.titlr=title\n",
        "    self.author=author\n",
        "    self.avialable=True\n",
        "  def display_info(self):\n",
        "    status=\"available\" if self.available else \"borrowed\"\n",
        "    print(f'{self.title} by {self.author}-{status}')\n",
        "class Library:\n",
        "  def __init__(self):\n",
        "    self.books=[]\n",
        "  def add_books(self,book):\n",
        "    self.books.append(book)\n",
        "    print('Book added by library.')\n",
        "  def display_books(self):\n",
        "    if not self.books:\n",
        "      print(\"No books in the library\")\n",
        "    else:\n",
        "      print(\"\\n Book List.\")\n",
        "      for book in self.books:\n",
        "        book.display_infp()\n",
        "  def borrow_books(self,title):\n",
        "    for book in self.books:\n",
        "      if book.title.lower()==title.lower() and book.avaikable:\n",
        "        book.available=False\n",
        "        print(f\"You have borrowed {book.title}\")\n",
        "        return\n",
        "    print(\"Book not available or does't exit.\")\n",
        "  def return_book(self,title):\n",
        "    for book in self.books:\n",
        "      if book.title.lower()==title.lower() and not book.available:\n",
        "        book.available=True\n",
        "        print(f\"you have returned {book.title}.\")\n",
        "        return\n",
        "    print(\"Book was't borrowed.\")\n",
        "\n",
        "li=Library()\n",
        "while True:\n",
        "  print(\"library management system.\")\n",
        "  print(\"1.Add book.\")\n",
        "  print(\"2.views all books.\")\n",
        "  print(\"3.Borrow book.\")\n",
        "  print(\"4.Return book.\")\n",
        "  print('5.Exit')\n",
        "  choice=input(\"Enter your choice:\")\n",
        "  if choice=='1':\n",
        "    title=input(\"Enter book title:\")\n",
        "    author=input(\"Enter author name:\")\n",
        "    book=Books(title,author)\n",
        "    li.add_books(book)\n",
        "  elif choice=='2':\n",
        "    li.display_books()\n",
        "  elif choice=='3':\n",
        "    title=input(\"Enter book title to borrow:\")\n",
        "    li.borrow.books(title)\n",
        "  elif choice=='4':\n",
        "    title=input(\"Enter book title to return:\")\n",
        "    li.return_book(title)\n",
        "  elif choice=='5':\n",
        "    print(\"Exit\")\n",
        "    break\n",
        "  else:\n",
        "    print(\"invalid choice.Try again.\")"
      ],
      "metadata": {
        "colab": {
          "base_uri": "https://localhost:8080/"
        },
        "id": "S9qWVNu6lJni",
        "outputId": "020d0dee-20f7-47cf-8cf5-5e8709365e9f"
      },
      "execution_count": 4,
      "outputs": [
        {
          "output_type": "stream",
          "name": "stdout",
          "text": [
            "library management system.\n",
            "1.Add book.\n",
            "2.views all books.\n",
            "3.Borrow book.\n",
            "4.Return book.\n",
            "5.Exit\n",
            "Enter your choice:5\n",
            "Exit\n"
          ]
        }
      ]
    },
    {
      "cell_type": "code",
      "source": [],
      "metadata": {
        "id": "4i739pqtsvT-"
      },
      "execution_count": null,
      "outputs": []
    }
  ]
}