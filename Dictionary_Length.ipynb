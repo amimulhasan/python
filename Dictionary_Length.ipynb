{
  "nbformat": 4,
  "nbformat_minor": 0,
  "metadata": {
    "colab": {
      "provenance": [],
      "authorship_tag": "ABX9TyOy3Bc+LzF9Ck+b9UtwZ3uO",
      "include_colab_link": true
    },
    "kernelspec": {
      "name": "python3",
      "display_name": "Python 3"
    },
    "language_info": {
      "name": "python"
    }
  },
  "cells": [
    {
      "cell_type": "markdown",
      "metadata": {
        "id": "view-in-github",
        "colab_type": "text"
      },
      "source": [
        "<a href=\"https://colab.research.google.com/github/amimulhasan/python/blob/main/Dictionary_Length.ipynb\" target=\"_parent\"><img src=\"https://colab.research.google.com/assets/colab-badge.svg\" alt=\"Open In Colab\"/></a>"
      ]
    },
    {
      "cell_type": "code",
      "execution_count": null,
      "metadata": {
        "id": "-4Q_cbw4QKG1"
      },
      "outputs": [],
      "source": [
        "# 79. Dictionary Length: Write a Python program to calculate and print the number of key-value pairs in a given dictionary.\n",
        "# Sample dictionary\n",
        "my_dict = {\n",
        "    \"name\": \"Alice\",\n",
        "    \"age\": 25,\n",
        "    \"city\": \"New York\",\n",
        "    \"profession\": \"Engineer\"\n",
        "}\n",
        "\n",
        "# Calculate dictionary length\n",
        "length = len(my_dict)\n",
        "\n",
        "# Print the result\n",
        "print(\"Number of key-value pairs in the dictionary:\", length)\n",
        "\n"
      ]
    }
  ]
}