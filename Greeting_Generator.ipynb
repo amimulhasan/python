{
  "nbformat": 4,
  "nbformat_minor": 0,
  "metadata": {
    "colab": {
      "provenance": [],
      "authorship_tag": "ABX9TyNc2W8pE/1jsGx2+bQrOLUj",
      "include_colab_link": true
    },
    "kernelspec": {
      "name": "python3",
      "display_name": "Python 3"
    },
    "language_info": {
      "name": "python"
    }
  },
  "cells": [
    {
      "cell_type": "markdown",
      "metadata": {
        "id": "view-in-github",
        "colab_type": "text"
      },
      "source": [
        "<a href=\"https://colab.research.google.com/github/amimulhasan/python/blob/main/Greeting_Generator.ipynb\" target=\"_parent\"><img src=\"https://colab.research.google.com/assets/colab-badge.svg\" alt=\"Open In Colab\"/></a>"
      ]
    },
    {
      "cell_type": "code",
      "execution_count": null,
      "metadata": {
        "id": "N8yJX38A9GW9"
      },
      "outputs": [],
      "source": [
        "# 109. Greeting Generator: Write a Python function called `greeting_generator` that takes a name as input and returns a greeting message using nested functions. The greeting message should be customizable (e.g., “Hello, {name}! How are you today?”).\n",
        "\n",
        "\n",
        "def greeting_generator(name):\n",
        "    def create_message():\n",
        "        return f\"Hello, {name}! How are you today?\"\n",
        "\n",
        "    return create_message()\n"
      ]
    },
    {
      "cell_type": "code",
      "source": [
        "message = greeting_generator(\"Rofiq\")\n",
        "print(message)\n"
      ],
      "metadata": {
        "id": "Ld4-p7iv9WwF"
      },
      "execution_count": null,
      "outputs": []
    }
  ]
}