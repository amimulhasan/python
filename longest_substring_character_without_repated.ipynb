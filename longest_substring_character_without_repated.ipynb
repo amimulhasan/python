{
  "nbformat": 4,
  "nbformat_minor": 0,
  "metadata": {
    "colab": {
      "provenance": [],
      "authorship_tag": "ABX9TyN1ZkqS9syKDUmmY4JzQCBM",
      "include_colab_link": true
    },
    "kernelspec": {
      "name": "python3",
      "display_name": "Python 3"
    },
    "language_info": {
      "name": "python"
    }
  },
  "cells": [
    {
      "cell_type": "markdown",
      "metadata": {
        "id": "view-in-github",
        "colab_type": "text"
      },
      "source": [
        "<a href=\"https://colab.research.google.com/github/amimulhasan/python/blob/main/longest_substring_character_without_repated.ipynb\" target=\"_parent\"><img src=\"https://colab.research.google.com/assets/colab-badge.svg\" alt=\"Open In Colab\"/></a>"
      ]
    },
    {
      "cell_type": "code",
      "execution_count": 1,
      "metadata": {
        "colab": {
          "base_uri": "https://localhost:8080/"
        },
        "id": "LvIs9Cz3q_s6",
        "outputId": "2da787c8-d80b-40ea-d4be-8958436d5db5"
      },
      "outputs": [
        {
          "output_type": "stream",
          "name": "stdout",
          "text": [
            "3\n",
            "1\n",
            "3\n"
          ]
        }
      ],
      "source": [
        "def lengthOfLongestSubstring(s: str) -> int:\n",
        "    # A set to store characters in the current window\n",
        "    char_set = set()\n",
        "    left = 0\n",
        "    max_length = 0\n",
        "\n",
        "    for right in range(len(s)):\n",
        "        # If character is in the set, remove characters from the left of the window until it is unique\n",
        "        while s[right] in char_set:\n",
        "            char_set.remove(s[left])\n",
        "            left += 1\n",
        "\n",
        "        # Add the current character to the set\n",
        "        char_set.add(s[right])\n",
        "\n",
        "        # Update the max length of the substring without duplicates\n",
        "        max_length = max(max_length, right - left + 1)\n",
        "\n",
        "    return max_length\n",
        "\n",
        "# Test examples\n",
        "print(lengthOfLongestSubstring(\"abcabcbb\"))  # Output: 3\n",
        "print(lengthOfLongestSubstring(\"bbbbb\"))     # Output: 1\n",
        "print(lengthOfLongestSubstring(\"pwwkew\"))    # Output: 3\n"
      ]
    },
    {
      "cell_type": "code",
      "source": [
        "def longestofsubstring(s:str) ->int:\n",
        "  char_set=set()\n",
        "  left=0\n",
        "  max_length=0\n",
        "  for right in range(len(s)):\n",
        "    while s[right] in char_set:\n",
        "      char_set.remove(s[left])\n",
        "      left +=1\n",
        "    char_set.add(s[right])\n",
        "    max_length=max(max_length,right-left+1)\n",
        "  return max_length\n",
        "print(lengthOfLongestSubstring('jjhffhsdfsjjya1'))\n",
        "print(lengthOfLongestSubstring('abcdabcdabcd'))\n",
        "print(lengthOfLongestSubstring('123415678rt'))"
      ],
      "metadata": {
        "colab": {
          "base_uri": "https://localhost:8080/"
        },
        "id": "gf6VjgCBs7wG",
        "outputId": "2da1ff6e-4c73-4c9d-e188-23f19038e889"
      },
      "execution_count": 16,
      "outputs": [
        {
          "output_type": "stream",
          "name": "stdout",
          "text": [
            "4\n",
            "4\n",
            "10\n"
          ]
        }
      ]
    },
    {
      "cell_type": "code",
      "source": [],
      "metadata": {
        "id": "sZP5dPJgut1z"
      },
      "execution_count": null,
      "outputs": []
    }
  ]
}