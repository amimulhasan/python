{
  "nbformat": 4,
  "nbformat_minor": 0,
  "metadata": {
    "colab": {
      "provenance": [],
      "authorship_tag": "ABX9TyPS7zez3o5mdAE2kbCl/qoK",
      "include_colab_link": true
    },
    "kernelspec": {
      "name": "python3",
      "display_name": "Python 3"
    },
    "language_info": {
      "name": "python"
    }
  },
  "cells": [
    {
      "cell_type": "markdown",
      "metadata": {
        "id": "view-in-github",
        "colab_type": "text"
      },
      "source": [
        "<a href=\"https://colab.research.google.com/github/amimulhasan/python/blob/main/Access_Nested_Dictionary.ipynb\" target=\"_parent\"><img src=\"https://colab.research.google.com/assets/colab-badge.svg\" alt=\"Open In Colab\"/></a>"
      ]
    },
    {
      "cell_type": "code",
      "execution_count": null,
      "metadata": {
        "id": "DXZOgJQfJiwE"
      },
      "outputs": [],
      "source": [
        "#  Access Nested Dictionary: Given a nested dictionary containing student details, write a Python program to access and print specific information such as a student’s name, age, and address.\n",
        "\n",
        "# Example of a nested dictionary\n",
        "student_info = {\n",
        "    \"student1\": {\n",
        "        \"name\": \"Alice\",\n",
        "        \"age\": 22,\n",
        "        \"address\": {\n",
        "            \"street\": \"123 Maple Street\",\n",
        "            \"city\": \"New York\",\n",
        "            \"zip\": \"10001\"\n",
        "        }\n",
        "    },\n",
        "    \"student2\": {\n",
        "        \"name\": \"Bob\",\n",
        "        \"age\": 24,\n",
        "        \"address\": {\n",
        "            \"street\": \"456 Oak Avenue\",\n",
        "            \"city\": \"Los Angeles\",\n",
        "            \"zip\": \"90001\"\n",
        "        }\n",
        "    }\n",
        "}\n",
        "\n",
        "# Accessing and printing specific information\n",
        "print(\"Student 1 Name:\", student_info[\"student1\"][\"name\"])\n",
        "print(\"Student 1 Age:\", student_info[\"student1\"][\"age\"])\n",
        "print(\"Student 1 Address:\", student_info[\"student1\"][\"address\"][\"street\"],\n",
        "      student_info[\"student1\"][\"address\"][\"city\"],\n",
        "      student_info[\"student1\"][\"address\"][\"zip\"])\n",
        "\n",
        "print(\"\\nStudent 2 Name:\", student_info[\"student2\"][\"name\"])\n",
        "print(\"Student 2 Age:\", student_info[\"student2\"][\"age\"])\n",
        "print(\"Student 2 Address:\", student_info[\"student2\"][\"address\"][\"street\"],\n",
        "      student_info[\"student2\"][\"address\"][\"city\"],\n",
        "      student_info[\"student2\"][\"address\"][\"zip\"])\n"
      ]
    }
  ]
}