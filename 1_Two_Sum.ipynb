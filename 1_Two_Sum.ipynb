{
  "nbformat": 4,
  "nbformat_minor": 0,
  "metadata": {
    "colab": {
      "provenance": [],
      "authorship_tag": "ABX9TyOcfSPSqBxfSvNyBPYHjBhL",
      "include_colab_link": true
    },
    "kernelspec": {
      "name": "python3",
      "display_name": "Python 3"
    },
    "language_info": {
      "name": "python"
    }
  },
  "cells": [
    {
      "cell_type": "markdown",
      "metadata": {
        "id": "view-in-github",
        "colab_type": "text"
      },
      "source": [
        "<a href=\"https://colab.research.google.com/github/amimulhasan/python/blob/main/1_Two_Sum.ipynb\" target=\"_parent\"><img src=\"https://colab.research.google.com/assets/colab-badge.svg\" alt=\"Open In Colab\"/></a>"
      ]
    },
    {
      "cell_type": "code",
      "execution_count": 1,
      "metadata": {
        "id": "8051fqaICYbZ"
      },
      "outputs": [],
      "source": [
        "'''Given an array of integers nums and an integer target,\n",
        "return indices of the two numbers such that they add up to target.\n",
        "\n",
        "'''\n",
        "\n",
        "def two_sum(nums, target):\n",
        "    num_map = {}  # Dictionary to store number and its index\n",
        "    for i, num in enumerate(nums):\n",
        "        complement = target - num\n",
        "        if complement in num_map:\n",
        "            return [num_map[complement], i]\n",
        "        num_map[num] = i\n",
        "    return None  # Return None if no solution is found\n"
      ]
    },
    {
      "cell_type": "code",
      "source": [
        "nums = [2, 7, 11, 15]\n",
        "target = 9\n",
        "result = two_sum(nums, target)\n",
        "print(result)  # Output: [0, 1]\n"
      ],
      "metadata": {
        "colab": {
          "base_uri": "https://localhost:8080/"
        },
        "id": "JZL8nzwjCh-d",
        "outputId": "b5400000-5408-48c5-b8b0-0bafdd26e442"
      },
      "execution_count": 2,
      "outputs": [
        {
          "output_type": "stream",
          "name": "stdout",
          "text": [
            "[0, 1]\n"
          ]
        }
      ]
    }
  ]
}