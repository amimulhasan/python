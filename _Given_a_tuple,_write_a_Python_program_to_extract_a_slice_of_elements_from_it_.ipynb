{
  "nbformat": 4,
  "nbformat_minor": 0,
  "metadata": {
    "colab": {
      "provenance": [],
      "authorship_tag": "ABX9TyNp8Yf5R5c67e2CFeisBl1C",
      "include_colab_link": true
    },
    "kernelspec": {
      "name": "python3",
      "display_name": "Python 3"
    },
    "language_info": {
      "name": "python"
    }
  },
  "cells": [
    {
      "cell_type": "markdown",
      "metadata": {
        "id": "view-in-github",
        "colab_type": "text"
      },
      "source": [
        "<a href=\"https://colab.research.google.com/github/amimulhasan/python/blob/main/_Given_a_tuple%2C_write_a_Python_program_to_extract_a_slice_of_elements_from_it_.ipynb\" target=\"_parent\"><img src=\"https://colab.research.google.com/assets/colab-badge.svg\" alt=\"Open In Colab\"/></a>"
      ]
    },
    {
      "cell_type": "code",
      "execution_count": null,
      "metadata": {
        "colab": {
          "base_uri": "https://localhost:8080/"
        },
        "id": "TVy7_BD3XrXl",
        "outputId": "ca30164b-edf5-4a90-b604-d7a289972751"
      },
      "outputs": [
        {
          "output_type": "stream",
          "name": "stdout",
          "text": [
            "Original tuple: (10, 20, 30, 40, 50, 60, 70, 80, 90)\n",
            "Slice from index 2 to 5: (30, 40, 50, 60)\n"
          ]
        }
      ],
      "source": [
        "# Define a tuple\n",
        "my_tuple = (10, 20, 30, 40, 50, 60, 70, 80, 90)\n",
        "\n",
        "# Define start and end indices for slicing\n",
        "start = 2  # Starting index (inclusive)\n",
        "end = 6    # Ending index (exclusive)\n",
        "\n",
        "# Extract the slice\n",
        "tuple_slice = my_tuple[start:end]\n",
        "\n",
        "# Print the result\n",
        "print(\"Original tuple:\", my_tuple)\n",
        "print(f\"Slice from index {start} to {end-1}:\", tuple_slice)\n"
      ]
    },
    {
      "cell_type": "code",
      "source": [
        "tup=(1,2,3,4,5,6,7,8,9)\n",
        "start=3\n",
        "end=7\n",
        "tup_slice=tup[start:end]\n",
        "print('Original Tupple:',tup)\n",
        "print(f'Slice from index { start} to {end-1} :',tup_slice)"
      ],
      "metadata": {
        "colab": {
          "base_uri": "https://localhost:8080/"
        },
        "id": "oYOLTYpvYBQN",
        "outputId": "13d061cf-fa5b-467a-c11f-e4a05efd4d9f"
      },
      "execution_count": null,
      "outputs": [
        {
          "output_type": "stream",
          "name": "stdout",
          "text": [
            "Original Tupple: (1, 2, 3, 4, 5, 6, 7, 8, 9)\n",
            "Slice from index 3 to 6 : (4, 5, 6, 7)\n"
          ]
        }
      ]
    }
  ]
}