{
  "nbformat": 4,
  "nbformat_minor": 0,
  "metadata": {
    "colab": {
      "provenance": [],
      "authorship_tag": "ABX9TyPUX8WjN5cy43nuSH8M/2oq",
      "include_colab_link": true
    },
    "kernelspec": {
      "name": "python3",
      "display_name": "Python 3"
    },
    "language_info": {
      "name": "python"
    }
  },
  "cells": [
    {
      "cell_type": "markdown",
      "metadata": {
        "id": "view-in-github",
        "colab_type": "text"
      },
      "source": [
        "<a href=\"https://colab.research.google.com/github/amimulhasan/python/blob/main/zigzag.ipynb\" target=\"_parent\"><img src=\"https://colab.research.google.com/assets/colab-badge.svg\" alt=\"Open In Colab\"/></a>"
      ]
    },
    {
      "cell_type": "code",
      "execution_count": null,
      "metadata": {
        "id": "JrV0JNmi2FcT"
      },
      "outputs": [],
      "source": [
        "def convert_zigzag(s: str, num_rows: int) -> str:\n",
        "    if num_rows == 1 or num_rows >= len(s):\n",
        "        return s\n",
        "\n",
        "    # Initialize a list for each row\n",
        "    rows = [''] * num_rows\n",
        "    current_row = 0\n",
        "    going_down = False\n",
        "\n",
        "    for char in s:\n",
        "        rows[current_row] += char\n",
        "        # Change direction when you reach the top or bottom row\n",
        "        if current_row == 0 or current_row == num_rows - 1:\n",
        "            going_down = not going_down\n",
        "        # Move up or down\n",
        "        current_row += 1 if going_down else -1\n",
        "\n",
        "    # Combine all rows\n",
        "    return ''.join(rows)\n",
        "\n",
        "# Example usage:\n",
        "s = \"PAYPALISHIRING\"\n",
        "num_rows = 3\n",
        "print(convert_zigzag(s, num_rows))  # Output: \"PAHNAPLSIIGYIR\"\n"
      ]
    }
  ]
}