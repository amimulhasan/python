{
  "nbformat": 4,
  "nbformat_minor": 0,
  "metadata": {
    "colab": {
      "provenance": [],
      "authorship_tag": "ABX9TyMyy5vsik0KUTeyjOWwWt0J",
      "include_colab_link": true
    },
    "kernelspec": {
      "name": "python3",
      "display_name": "Python 3"
    },
    "language_info": {
      "name": "python"
    }
  },
  "cells": [
    {
      "cell_type": "markdown",
      "metadata": {
        "id": "view-in-github",
        "colab_type": "text"
      },
      "source": [
        "<a href=\"https://colab.research.google.com/github/amimulhasan/python/blob/main/zigzag.ipynb\" target=\"_parent\"><img src=\"https://colab.research.google.com/assets/colab-badge.svg\" alt=\"Open In Colab\"/></a>"
      ]
    },
    {
      "cell_type": "code",
      "source": [
        "class Solution:\n",
        "    def convert(self, s: str, numRows: int) -> str:\n",
        "        # Edge case: If numRows is 1, return the string as is\n",
        "        if numRows == 1:\n",
        "            return s\n",
        "\n",
        "        # Initialize a list of empty strings for each row\n",
        "        rows = [''] * numRows\n",
        "\n",
        "        # Start at the first row\n",
        "        currentRow = 0\n",
        "        goingDown = False\n",
        "\n",
        "        # Iterate through each character in the string\n",
        "        for char in s:\n",
        "            rows[currentRow] += char\n",
        "\n",
        "            # Change direction when we reach the first or last row\n",
        "            if currentRow == 0 or currentRow == numRows - 1:\n",
        "                goingDown = not goingDown\n",
        "\n",
        "            # Move up or down depending on the direction\n",
        "            currentRow += 1 if goingDown else -1\n",
        "\n",
        "        # Join all the rows into one string and return it\n",
        "        return ''.join(rows)\n"
      ],
      "metadata": {
        "id": "ca2e52v4CS0y"
      },
      "execution_count": 2,
      "outputs": []
    },
    {
      "cell_type": "code",
      "source": [
        "solution = Solution()\n",
        "result = solution.convert(\"PAYPALISHIRING\", 3)\n",
        "print(result)  # Output: \"PAHNAPLSIIGYIR\"\n"
      ],
      "metadata": {
        "colab": {
          "base_uri": "https://localhost:8080/"
        },
        "id": "edXumKSHCiy_",
        "outputId": "2974ff53-fb5b-4f3a-9e88-436975f43960"
      },
      "execution_count": 3,
      "outputs": [
        {
          "output_type": "stream",
          "name": "stdout",
          "text": [
            "PAHNAPLSIIGYIR\n"
          ]
        }
      ]
    },
    {
      "cell_type": "code",
      "source": [],
      "metadata": {
        "id": "DMgFZMuJCrMY"
      },
      "execution_count": null,
      "outputs": []
    }
  ]
}