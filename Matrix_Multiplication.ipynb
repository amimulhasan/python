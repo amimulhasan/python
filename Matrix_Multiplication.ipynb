{
  "nbformat": 4,
  "nbformat_minor": 0,
  "metadata": {
    "colab": {
      "provenance": [],
      "authorship_tag": "ABX9TyMP+A31VfH+LDgjYv7XcyKX",
      "include_colab_link": true
    },
    "kernelspec": {
      "name": "python3",
      "display_name": "Python 3"
    },
    "language_info": {
      "name": "python"
    }
  },
  "cells": [
    {
      "cell_type": "markdown",
      "metadata": {
        "id": "view-in-github",
        "colab_type": "text"
      },
      "source": [
        "<a href=\"https://colab.research.google.com/github/amimulhasan/python/blob/main/Matrix_Multiplication.ipynb\" target=\"_parent\"><img src=\"https://colab.research.google.com/assets/colab-badge.svg\" alt=\"Open In Colab\"/></a>"
      ]
    },
    {
      "cell_type": "code",
      "execution_count": null,
      "metadata": {
        "id": "gnKcjEy0v6u-"
      },
      "outputs": [],
      "source": [
        "# 32. Matrix Multiplication: Write a Python program using nested loops to multiply two matrices.\n",
        "\n",
        "# Define two matrices A and B\n",
        "A = [\n",
        "    [1, 2, 3],\n",
        "    [4, 5, 6]\n",
        "]\n",
        "\n",
        "B = [\n",
        "    [7, 8],\n",
        "    [9, 10],\n",
        "    [11, 12]\n",
        "]\n",
        "\n",
        "# Check if multiplication is possible\n",
        "if len(A[0]) != len(B):\n",
        "    print(\"Matrix multiplication not possible!\")\n",
        "else:\n",
        "    # Initialize result matrix with zeros\n",
        "    result = [[0 for _ in range(len(B[0]))] for _ in range(len(A))]\n",
        "\n",
        "    # Perform matrix multiplication\n",
        "    for i in range(len(A)):\n",
        "        for j in range(len(B[0])):\n",
        "            for k in range(len(B)):\n",
        "                result[i][j] += A[i][k] * B[k][j]\n",
        "\n",
        "    # Print the result\n",
        "    print(\"Resultant Matrix:\")\n",
        "    for row in result:\n",
        "        print(row)\n",
        "\n",
        "\n"
      ]
    }
  ]
}