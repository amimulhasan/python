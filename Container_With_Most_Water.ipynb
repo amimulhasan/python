{
  "nbformat": 4,
  "nbformat_minor": 0,
  "metadata": {
    "colab": {
      "provenance": [],
      "authorship_tag": "ABX9TyNOPYgP6x/tHra8+apoyIQ6",
      "include_colab_link": true
    },
    "kernelspec": {
      "name": "python3",
      "display_name": "Python 3"
    },
    "language_info": {
      "name": "python"
    }
  },
  "cells": [
    {
      "cell_type": "markdown",
      "metadata": {
        "id": "view-in-github",
        "colab_type": "text"
      },
      "source": [
        "<a href=\"https://colab.research.google.com/github/amimulhasan/python/blob/main/Container_With_Most_Water.ipynb\" target=\"_parent\"><img src=\"https://colab.research.google.com/assets/colab-badge.svg\" alt=\"Open In Colab\"/></a>"
      ]
    },
    {
      "cell_type": "code",
      "execution_count": 2,
      "metadata": {
        "colab": {
          "base_uri": "https://localhost:8080/"
        },
        "id": "mJsPWFKpSscZ",
        "outputId": "831fa7e1-6f25-4c2a-f98c-3a215f95e685"
      },
      "outputs": [
        {
          "output_type": "stream",
          "name": "stdout",
          "text": [
            "49\n"
          ]
        }
      ],
      "source": [
        "'''You are given an integer array height of length n.\n",
        "There are n vertical lines drawn such that the two endpoints of the ith line are (i, 0) and (i, height[i]).\n",
        "\n",
        "Find two lines that together with the x-axis form a container, such that the container contains the most water.\n",
        "\n",
        "Return the maximum amount of water a container can store.'''\n",
        "def maxArea(height):\n",
        "    i = 0                      # Left pointer\n",
        "    j = len(height) - 1        # Right pointer\n",
        "    max_area = 0               # To store the maximum area\n",
        "\n",
        "    while i < j:\n",
        "        # Find the height and width between the two lines\n",
        "        h = min(height[i], height[j])\n",
        "        w = j - i\n",
        "        area = h * w           # Calculate area\n",
        "        max_area = max(max_area, area)  # Update max area if needed\n",
        "\n",
        "        # Move the pointer pointing to the shorter line\n",
        "        if height[i] < height[j]:\n",
        "            i += 1\n",
        "        else:\n",
        "            j -= 1\n",
        "\n",
        "    return max_area\n",
        "\n",
        "\n",
        "print(maxArea([1,8,6,2,5,4,8,3,7]))  # Output: 49\n",
        "\n"
      ]
    }
  ]
}