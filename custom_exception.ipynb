{
  "nbformat": 4,
  "nbformat_minor": 0,
  "metadata": {
    "colab": {
      "provenance": [],
      "authorship_tag": "ABX9TyMhaL/fgVANzXmKuXVzuh3O",
      "include_colab_link": true
    },
    "kernelspec": {
      "name": "python3",
      "display_name": "Python 3"
    },
    "language_info": {
      "name": "python"
    }
  },
  "cells": [
    {
      "cell_type": "markdown",
      "metadata": {
        "id": "view-in-github",
        "colab_type": "text"
      },
      "source": [
        "<a href=\"https://colab.research.google.com/github/amimulhasan/python/blob/main/custom_exception.ipynb\" target=\"_parent\"><img src=\"https://colab.research.google.com/assets/colab-badge.svg\" alt=\"Open In Colab\"/></a>"
      ]
    },
    {
      "cell_type": "code",
      "execution_count": 2,
      "metadata": {
        "id": "H9FZlZxvD2nZ"
      },
      "outputs": [],
      "source": [
        "class Error(Exception):\n",
        "  pass\n",
        "class dobException(Error):\n",
        "  pass\n",
        "class custongeneric(Error):\n",
        "  pass"
      ]
    },
    {
      "cell_type": "code",
      "source": [
        "year=int(input('Enter the year of Birth:'))\n",
        "age=2021-year\n",
        "try:\n",
        "  if age<=30 & age>20:\n",
        "    print('The age is valid.You can apply for the exams')\n",
        "  else:\n",
        "    raise dobException\n",
        "except dobException:\n",
        "  print('The age is not valid.you can not apply for the exams.')"
      ],
      "metadata": {
        "colab": {
          "base_uri": "https://localhost:8080/"
        },
        "id": "noLFwP9OcezG",
        "outputId": "5c0997e5-8ff0-4dd4-88db-c0363ee893d1"
      },
      "execution_count": 3,
      "outputs": [
        {
          "output_type": "stream",
          "name": "stdout",
          "text": [
            "Enter the year of Birth:30\n",
            "The age is not valid.you can not apply for the exams.\n"
          ]
        }
      ]
    },
    {
      "cell_type": "code",
      "source": [],
      "metadata": {
        "id": "bpt1veMhcV_T"
      },
      "execution_count": null,
      "outputs": []
    }
  ]
}