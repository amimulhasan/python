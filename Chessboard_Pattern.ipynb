{
  "nbformat": 4,
  "nbformat_minor": 0,
  "metadata": {
    "colab": {
      "provenance": [],
      "authorship_tag": "ABX9TyN5SFDBhwAAJgy00D3cUP3f",
      "include_colab_link": true
    },
    "kernelspec": {
      "name": "python3",
      "display_name": "Python 3"
    },
    "language_info": {
      "name": "python"
    }
  },
  "cells": [
    {
      "cell_type": "markdown",
      "metadata": {
        "id": "view-in-github",
        "colab_type": "text"
      },
      "source": [
        "<a href=\"https://colab.research.google.com/github/amimulhasan/python/blob/main/Chessboard_Pattern.ipynb\" target=\"_parent\"><img src=\"https://colab.research.google.com/assets/colab-badge.svg\" alt=\"Open In Colab\"/></a>"
      ]
    },
    {
      "cell_type": "code",
      "execution_count": 1,
      "metadata": {
        "colab": {
          "base_uri": "https://localhost:8080/"
        },
        "id": "4FHqd2IhBPzd",
        "outputId": "abbc1a02-1e8f-4f6e-d410-7a8fbacba37b"
      },
      "outputs": [
        {
          "output_type": "stream",
          "name": "stdout",
          "text": [
            "X O X O X O X O \n",
            "O X O X O X O X \n",
            "X O X O X O X O \n",
            "O X O X O X O X \n",
            "X O X O X O X O \n",
            "O X O X O X O X \n",
            "X O X O X O X O \n",
            "O X O X O X O X \n"
          ]
        }
      ],
      "source": [
        "# Chessboard Pattern\n",
        "''' Write a Python program using nested loops to\n",
        "print a chessboard pattern (alternating “X” and “O”\n",
        "characters) of size 8×8.34. Number Pyramid: Write a Python program using nested\n",
        "loops to print a number pyramid like the following: 1 22 333 4444 55555'''\n",
        "for row in range(8):\n",
        "    for col in range(8):\n",
        "        if (row + col) % 2 == 0:\n",
        "            print(\"X\", end=\" \")\n",
        "        else:\n",
        "            print(\"O\", end=\" \")\n",
        "    print()  # Newline after each row\n"
      ]
    }
  ]
}