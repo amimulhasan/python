{
  "nbformat": 4,
  "nbformat_minor": 0,
  "metadata": {
    "colab": {
      "provenance": [],
      "authorship_tag": "ABX9TyMI4V2IFE0r/4RGE5u4rDSc",
      "include_colab_link": true
    },
    "kernelspec": {
      "name": "python3",
      "display_name": "Python 3"
    },
    "language_info": {
      "name": "python"
    }
  },
  "cells": [
    {
      "cell_type": "markdown",
      "metadata": {
        "id": "view-in-github",
        "colab_type": "text"
      },
      "source": [
        "<a href=\"https://colab.research.google.com/github/amimulhasan/python/blob/main/Vowel_or_Consonant.ipynb\" target=\"_parent\"><img src=\"https://colab.research.google.com/assets/colab-badge.svg\" alt=\"Open In Colab\"/></a>"
      ]
    },
    {
      "cell_type": "code",
      "execution_count": null,
      "metadata": {
        "colab": {
          "base_uri": "https://localhost:8080/"
        },
        "id": "gfidLMcQcG6W",
        "outputId": "3e83fdda-4fc7-41d0-9575-90cde76fd39b"
      },
      "outputs": [
        {
          "output_type": "stream",
          "name": "stdout",
          "text": [
            "Enter a single character: a\n",
            "'a' is a vowel.\n"
          ]
        }
      ],
      "source": [
        "# Write a Python program that takes a single character as input and determines whether it is a vowel or a consonant.\n",
        "def check_vowel_or_consonant(char):\n",
        "    vowels = \"aeiouAEIOU\"\n",
        "\n",
        "    if len(char) != 1 or not char.isalpha():\n",
        "        return \"Invalid input! Please enter a single alphabet character.\"\n",
        "\n",
        "    if char in vowels:\n",
        "        return f\"'{char}' is a vowel.\"\n",
        "    else:\n",
        "        return f\"'{char}' is a consonant.\"\n",
        "\n",
        "# Taking input from the user\n",
        "character = input(\"Enter a single character: \")\n",
        "result = check_vowel_or_consonant(character)\n",
        "print(result)\n"
      ]
    },
    {
      "cell_type": "code",
      "source": [
        "def check_vowel_or_cosonant(char):\n",
        "  vowels='aieouAEIOU'\n",
        "  if len(char) !=1 or not char.isalpha():\n",
        "    return 'Invalid input! please enter a single alphabet character.'\n",
        "  if char in vowels:\n",
        "    return f\" '{char}' is a vowel.\"\n",
        "  else:\n",
        "    return f\" '{char}' is a consonant.\"\n",
        "character=input('Enter a single character: ')\n",
        "result=check_vowel_or_consonant(character)\n",
        "print(result)"
      ],
      "metadata": {
        "colab": {
          "base_uri": "https://localhost:8080/"
        },
        "id": "lDuDy3rpdRuU",
        "outputId": "a4ee847d-15fe-4d51-c0f5-b98d8afec884"
      },
      "execution_count": null,
      "outputs": [
        {
          "output_type": "stream",
          "name": "stdout",
          "text": [
            "Enter a single character: g\n",
            "'g' is a consonant.\n"
          ]
        }
      ]
    },
    {
      "cell_type": "code",
      "source": [],
      "metadata": {
        "id": "v8LSo0GNe2Bp"
      },
      "execution_count": null,
      "outputs": []
    }
  ]
}