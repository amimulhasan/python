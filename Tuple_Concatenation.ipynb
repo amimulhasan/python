{
  "nbformat": 4,
  "nbformat_minor": 0,
  "metadata": {
    "colab": {
      "provenance": [],
      "authorship_tag": "ABX9TyP5Hf/HsjG2nv6DWyWcQFd0",
      "include_colab_link": true
    },
    "kernelspec": {
      "name": "python3",
      "display_name": "Python 3"
    },
    "language_info": {
      "name": "python"
    }
  },
  "cells": [
    {
      "cell_type": "markdown",
      "metadata": {
        "id": "view-in-github",
        "colab_type": "text"
      },
      "source": [
        "<a href=\"https://colab.research.google.com/github/amimulhasan/python/blob/main/Tuple_Concatenation.ipynb\" target=\"_parent\"><img src=\"https://colab.research.google.com/assets/colab-badge.svg\" alt=\"Open In Colab\"/></a>"
      ]
    },
    {
      "cell_type": "code",
      "execution_count": null,
      "metadata": {
        "id": "6aJLzbphtGX4"
      },
      "outputs": [],
      "source": [
        "# 49. Tuple Concatenation: Write a Python program to concatenate two tuples and create a new tuple.\n",
        "\n",
        "# Define two tuples\n",
        "tuple1 = (1, 2, 3)\n",
        "tuple2 = (4, 5, 6)\n",
        "\n",
        "# Concatenate the tuples\n",
        "concatenated_tuple = tuple1 + tuple2\n",
        "\n",
        "# Display the result\n",
        "print(\"Tuple 1:\", tuple1)\n",
        "print(\"Tuple 2:\", tuple2)\n",
        "print(\"Concatenated Tuple:\", concatenated_tuple)\n"
      ]
    }
  ]
}