{
  "nbformat": 4,
  "nbformat_minor": 0,
  "metadata": {
    "colab": {
      "provenance": [],
      "authorship_tag": "ABX9TyMicgFDpk9NL1NcxaYkIIva",
      "include_colab_link": true
    },
    "kernelspec": {
      "name": "python3",
      "display_name": "Python 3"
    },
    "language_info": {
      "name": "python"
    }
  },
  "cells": [
    {
      "cell_type": "markdown",
      "metadata": {
        "id": "view-in-github",
        "colab_type": "text"
      },
      "source": [
        "<a href=\"https://colab.research.google.com/github/amimulhasan/python/blob/main/12_Integer_to_Roman.ipynb\" target=\"_parent\"><img src=\"https://colab.research.google.com/assets/colab-badge.svg\" alt=\"Open In Colab\"/></a>"
      ]
    },
    {
      "cell_type": "code",
      "source": [
        "def intToRoman(num):\n",
        "    # Mapping of numbers to Roman numerals\n",
        "    roman_map = [\n",
        "        (1000, 'M'), (900, 'CM'), (500, 'D'), (400, 'CD'),\n",
        "        (100, 'C'), (90, 'XC'), (50, 'L'), (40, 'XL'),\n",
        "        (10, 'X'), (9, 'IX'), (5, 'V'), (4, 'IV'), (1, 'I')\n",
        "    ]\n",
        "\n",
        "    result = \"\"\n",
        "    for value, symbol in roman_map:\n",
        "        while num >= value:\n",
        "            result += symbol\n",
        "            num -= value\n",
        "    return result\n"
      ],
      "metadata": {
        "id": "HbaDFP15aE49"
      },
      "execution_count": null,
      "outputs": []
    },
    {
      "cell_type": "code",
      "execution_count": null,
      "metadata": {
        "id": "Xx9tS9ZpZyD1"
      },
      "outputs": [],
      "source": [
        "def IntToRoman(num):\n",
        "  roman_num=[\n",
        "      (1000,'N'),(900,\"CM\"),(500,'D'),(400,\"CD\"),(100,\"C\"),(90,\"XC\"),(50,\"L\"),(40,\"XL\"),()\n",
        "  ]\n"
      ]
    }
  ]
}