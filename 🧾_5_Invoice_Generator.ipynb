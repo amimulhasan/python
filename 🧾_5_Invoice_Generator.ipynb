{
  "nbformat": 4,
  "nbformat_minor": 0,
  "metadata": {
    "colab": {
      "provenance": [],
      "authorship_tag": "ABX9TyNjxyHM9WYeb8AuYkqOyYPU",
      "include_colab_link": true
    },
    "kernelspec": {
      "name": "python3",
      "display_name": "Python 3"
    },
    "language_info": {
      "name": "python"
    }
  },
  "cells": [
    {
      "cell_type": "markdown",
      "metadata": {
        "id": "view-in-github",
        "colab_type": "text"
      },
      "source": [
        "<a href=\"https://colab.research.google.com/github/amimulhasan/python/blob/main/%F0%9F%A7%BE_5_Invoice_Generator.ipynb\" target=\"_parent\"><img src=\"https://colab.research.google.com/assets/colab-badge.svg\" alt=\"Open In Colab\"/></a>"
      ]
    },
    {
      "cell_type": "code",
      "execution_count": null,
      "metadata": {
        "id": "BAvmzFIHcjIQ"
      },
      "outputs": [],
      "source": [
        "class Item:\n",
        "    def __init__(self, name, price, quantity):\n",
        "        self.name = name\n",
        "        self.price = price\n",
        "        self.quantity = quantity\n",
        "\n",
        "    def total_price(self):\n",
        "        return self.price * self.quantity\n",
        "\n",
        "\n",
        "class Invoice:\n",
        "    def __init__(self):\n",
        "        self.items = []\n",
        "\n",
        "    def add_item(self, item):\n",
        "        self.items.append(item)\n",
        "        print(f\"✅ Added {item.name} to invoice.\")\n",
        "\n",
        "    def generate_invoice(self):\n",
        "        print(\"\\n===== 🧾 Invoice =====\")\n",
        "        total = 0\n",
        "        for item in self.items:\n",
        "            item_total = item.total_price()\n",
        "            print(f\"{item.name} - {item.quantity} x {item.price} = {item_total}\")\n",
        "            total += item_total\n",
        "        print(f\"------------------------\\nTotal Amount: {total} 💰\")\n",
        "        print(\"========================\")\n",
        "\n",
        "\n",
        "# Main Program\n",
        "invoice = Invoice()\n",
        "\n",
        "while True:\n",
        "    print(\"\\n1. Add Item\")\n",
        "    print(\"2. Show Invoice\")\n",
        "    print(\"3. Exit\")\n",
        "\n",
        "    choice = input(\"Choose an option: \")\n",
        "\n",
        "    if choice == '1':\n",
        "        name = input(\"Enter item name: \")\n",
        "        price = float(input(\"Enter item price: \"))\n",
        "        quantity = int(input(\"Enter quantity: \"))\n",
        "        item = Item(name, price, quantity)\n",
        "        invoice.add_item(item)\n",
        "\n",
        "    elif choice == '2':\n",
        "        invoice.generate_invoice()\n",
        "\n",
        "    elif choice == '3':\n",
        "        print(\"👋 Exiting Invoice Generator. Thank you!\")\n",
        "        break\n",
        "\n",
        "    else:\n",
        "        print(\"⚠️ Invalid choice. Try again.\")\n"
      ]
    },
    {
      "cell_type": "code",
      "source": [
        "class Item:\n",
        "  def __init__(self,name,price,quality):\n",
        "    self.name=name\n",
        "    self.price=price\n",
        "    self.quality=quality\n",
        "  def total_price(self):\n",
        "    return self.price*self.quality\n",
        "class Invoice:\n",
        "  def __init__(self):\n",
        "    self.items=[]\n",
        "  def add_item(self,item):\n",
        "    self.items.append(item)\n",
        "  def generate_invoice(self):\n",
        "    print(\"Invoice\")\n",
        "    total=0\n",
        "    for item in self.items:\n",
        "      item_total=item.total_price()\n",
        "      print(f\"{item.name}-{item.quality}x{item.price}={item_total}\")\n",
        "      total +=item_total\n",
        "    print(f\"Total amount:{total}\")\n",
        "    print(\"==================\")\n",
        "invoice=Invoice()\n",
        "while True:\n",
        "  print(\"1.add item.\")\n",
        "  print('2.show invoice.')\n",
        "  print('3.Exit.')\n",
        "  choice=input(\"choice an option:\")\n",
        "  if choice==\"1\":\n",
        "    name=input(\"Enter your name:\")\n",
        "    price=float(input(\"Enter your price:\"))\n",
        "    quality=int(input(\"Enter your quality:\"))\n",
        "    item=Item(name,price,quality)\n",
        "    invoice.add_item(item)\n",
        "  elif choice=='2':\n",
        "    invoice.generate_invoice()\n",
        "  elif choice=='3':\n",
        "    print(\"Exiting invoice Generator.\")\n",
        "    break\n",
        "  else:\n",
        "    print(\"invalid choice.Try again.\")"
      ],
      "metadata": {
        "colab": {
          "base_uri": "https://localhost:8080/"
        },
        "id": "uIw5KTpqc9Mn",
        "outputId": "cef8e14f-5e64-4b73-cbbd-713d8477ceb0"
      },
      "execution_count": 2,
      "outputs": [
        {
          "output_type": "stream",
          "name": "stdout",
          "text": [
            "1.add item.\n",
            "2.show invoice.\n",
            "3.Exit.\n",
            "choice an option:1\n",
            "Enter your name:junaed\n",
            "Enter your price:2000\n",
            "Enter your quality:3\n",
            "1.add item.\n",
            "2.show invoice.\n",
            "3.Exit.\n",
            "choice an option:3\n",
            "Exiting invoice Generator.\n"
          ]
        }
      ]
    },
    {
      "cell_type": "code",
      "source": [],
      "metadata": {
        "id": "ZWxXQq43hCTO"
      },
      "execution_count": null,
      "outputs": []
    }
  ]
}