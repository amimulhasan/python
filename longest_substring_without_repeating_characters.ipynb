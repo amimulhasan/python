{
  "nbformat": 4,
  "nbformat_minor": 0,
  "metadata": {
    "colab": {
      "provenance": [],
      "authorship_tag": "ABX9TyN1BeyQSWn3w9zNqhYYuYAg",
      "include_colab_link": true
    },
    "kernelspec": {
      "name": "python3",
      "display_name": "Python 3"
    },
    "language_info": {
      "name": "python"
    }
  },
  "cells": [
    {
      "cell_type": "markdown",
      "metadata": {
        "id": "view-in-github",
        "colab_type": "text"
      },
      "source": [
        "<a href=\"https://colab.research.google.com/github/amimulhasan/python/blob/main/longest_substring_without_repeating_characters.ipynb\" target=\"_parent\"><img src=\"https://colab.research.google.com/assets/colab-badge.svg\" alt=\"Open In Colab\"/></a>"
      ]
    },
    {
      "cell_type": "code",
      "execution_count": null,
      "metadata": {
        "id": "ivKpejeKdmWW"
      },
      "outputs": [],
      "source": [
        "class Solution:\n",
        "    def lengthOfLongestSubstring(self, s: str) -> int:\n",
        "        char_set = set()  # Set to store unique characters in the window\n",
        "        left = 0  # Left pointer of the window\n",
        "        max_length = 0  # To track the maximum length of the substring\n",
        "\n",
        "        for right in range(len(s)):\n",
        "            # If the character at 'right' pointer is already in the set, shrink the window\n",
        "            while s[right] in char_set:\n",
        "                char_set.remove(s[left])  # Remove the character at the 'left' pointer\n",
        "                left += 1  # Move the 'left' pointer to the right\n",
        "\n",
        "            # Add the current character to the set\n",
        "            char_set.add(s[right])\n",
        "\n",
        "            # Update the maximum length\n",
        "            max_length = max(max_length, right - left + 1)\n",
        "\n",
        "        return max_length\n",
        "sol = Solution()\n",
        "print(sol.lengthOfLongestSubstring(\"abcabcbb\"))  # Output: 3\n",
        "print(sol.lengthOfLongestSubstring(\"bbbbb\"))     # Output: 1\n",
        "print(sol.lengthOfLongestSubstring(\"pwwkew\"))    # Output: 3"
      ]
    }
  ]
}