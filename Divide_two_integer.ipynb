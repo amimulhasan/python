{
  "nbformat": 4,
  "nbformat_minor": 0,
  "metadata": {
    "colab": {
      "provenance": [],
      "authorship_tag": "ABX9TyMcinDLGUUSGzttzsxav+2t",
      "include_colab_link": true
    },
    "kernelspec": {
      "name": "python3",
      "display_name": "Python 3"
    },
    "language_info": {
      "name": "python"
    }
  },
  "cells": [
    {
      "cell_type": "markdown",
      "metadata": {
        "id": "view-in-github",
        "colab_type": "text"
      },
      "source": [
        "<a href=\"https://colab.research.google.com/github/amimulhasan/python/blob/main/Divide_two_integer.ipynb\" target=\"_parent\"><img src=\"https://colab.research.google.com/assets/colab-badge.svg\" alt=\"Open In Colab\"/></a>"
      ]
    },
    {
      "cell_type": "code",
      "execution_count": 1,
      "metadata": {
        "id": "qI1H-08UaWKz"
      },
      "outputs": [],
      "source": [
        "class Solution:\n",
        "    def divide(self, dividend: int, divisor: int) -> int:\n",
        "        # Constants for the 32-bit signed integer range\n",
        "        INT_MAX = 2**31 - 1\n",
        "        INT_MIN = -2**31\n",
        "\n",
        "        # Handle overflow case where dividend is INT_MIN and divisor is -1\n",
        "        if dividend == INT_MIN and divisor == -1:\n",
        "            return INT_MAX\n",
        "\n",
        "        # Determine the sign of the result\n",
        "        sign = -1 if (dividend < 0) ^ (divisor < 0) else 1\n",
        "\n",
        "        # Work with absolute values for simplicity\n",
        "        dividend, divisor = abs(dividend), abs(divisor)\n",
        "\n",
        "        quotient = 0\n",
        "        # The idea is to subtract the divisor multiple times using bit shifts\n",
        "        while dividend >= divisor:\n",
        "            temp_divisor, num_divisors = divisor, 1\n",
        "            # Double the divisor until it exceeds the dividend\n",
        "            while dividend >= (temp_divisor << 1):\n",
        "                temp_divisor <<= 1\n",
        "                num_divisors <<= 1\n",
        "\n",
        "            # Subtract the largest possible divisor found\n",
        "            dividend -= temp_divisor\n",
        "            quotient += num_divisors\n",
        "\n",
        "        # Apply the sign to the quotient\n",
        "        quotient *= sign\n",
        "\n",
        "        # Ensure the result is within the 32-bit signed integer range\n",
        "        return min(max(quotient, INT_MIN), INT_MAX)\n"
      ]
    },
    {
      "cell_type": "code",
      "source": [
        "# Example 1:\n",
        "solution = Solution()\n",
        "print(solution.divide(10, 3))  # Output: 3\n",
        "\n",
        "# Example 2:\n",
        "solution = Solution()\n",
        "print(solution.divide(7, -3))  # Output: -2\n",
        "\n",
        "# Example 3 (Edge case):\n",
        "solution = Solution()\n",
        "print(solution.divide(-2**31, -1))  # Output: 2147483647 (INT_MAX)\n"
      ],
      "metadata": {
        "colab": {
          "base_uri": "https://localhost:8080/"
        },
        "id": "IOnnKMZOaXqm",
        "outputId": "ce4de290-bbec-4244-f601-e0efe375a464"
      },
      "execution_count": 2,
      "outputs": [
        {
          "output_type": "stream",
          "name": "stdout",
          "text": [
            "3\n",
            "-2\n",
            "2147483647\n"
          ]
        }
      ]
    },
    {
      "cell_type": "code",
      "source": [
        "class soluation:\n",
        "  def divide(self,divided:int,divisor:int)->int:\n",
        "    INT_MAX=2**31-1\n",
        "    INT_MIN=-2**31\n",
        "    if divided==INT_MIN and divisor==-1:\n",
        "      return INT_MAX\n",
        "\n",
        "    sign=-1 if (divided<0)^(divisor<0) else 1\n",
        "    dividea,divisor=abs(divided),abs(divisor)\n",
        "    quotient=0\n",
        "    while divided>=divisor:\n"
      ],
      "metadata": {
        "id": "LFrCzJhIaazp"
      },
      "execution_count": null,
      "outputs": []
    }
  ]
}