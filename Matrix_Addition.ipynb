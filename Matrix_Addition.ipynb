{
  "nbformat": 4,
  "nbformat_minor": 0,
  "metadata": {
    "colab": {
      "provenance": [],
      "authorship_tag": "ABX9TyPEM3zorgXPISBKQ8UMv/tg",
      "include_colab_link": true
    },
    "kernelspec": {
      "name": "python3",
      "display_name": "Python 3"
    },
    "language_info": {
      "name": "python"
    }
  },
  "cells": [
    {
      "cell_type": "markdown",
      "metadata": {
        "id": "view-in-github",
        "colab_type": "text"
      },
      "source": [
        "<a href=\"https://colab.research.google.com/github/amimulhasan/python/blob/main/Matrix_Addition.ipynb\" target=\"_parent\"><img src=\"https://colab.research.google.com/assets/colab-badge.svg\" alt=\"Open In Colab\"/></a>"
      ]
    },
    {
      "cell_type": "code",
      "execution_count": null,
      "metadata": {
        "id": "P0O4gCtgZQ2T"
      },
      "outputs": [],
      "source": [
        "# Function to add two matrices\n",
        "#  Matrix Addition: Write a Python program to add two matrices represented as nested lists\n",
        "def add_matrices(matrix1, matrix2):\n",
        "    # Check if matrices have the same size\n",
        "    if len(matrix1) != len(matrix2) or len(matrix1[0]) != len(matrix2[0]):\n",
        "        raise ValueError(\"Matrices must be of the same dimensions.\")\n",
        "\n",
        "    # Resultant matrix after addition\n",
        "    result = []\n",
        "\n",
        "    # Iterate through rows\n",
        "    for i in range(len(matrix1)):\n",
        "        row = []\n",
        "        # Iterate through columns\n",
        "        for j in range(len(matrix1[0])):\n",
        "            row.append(matrix1[i][j] + matrix2[i][j])\n",
        "        result.append(row)\n",
        "\n",
        "    return result\n",
        "\n",
        "# Example matrices\n",
        "A = [[1, 2, 3],\n",
        "     [4, 5, 6],\n",
        "     [7, 8, 9]]\n",
        "\n",
        "B = [[9, 8, 7],\n",
        "     [6, 5, 4],\n",
        "     [3, 2, 1]]\n",
        "\n",
        "# Add matrices\n",
        "C = add_matrices(A, B)\n",
        "\n",
        "# Print result\n",
        "print(\"Result of matrix addition:\")\n",
        "for row in C:\n",
        "    print(row)\n"
      ]
    }
  ]
}