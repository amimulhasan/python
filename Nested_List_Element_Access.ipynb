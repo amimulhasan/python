{
  "nbformat": 4,
  "nbformat_minor": 0,
  "metadata": {
    "colab": {
      "provenance": [],
      "authorship_tag": "ABX9TyOdJ/zCQKeZGrTb+dOKe+6j",
      "include_colab_link": true
    },
    "kernelspec": {
      "name": "python3",
      "display_name": "Python 3"
    },
    "language_info": {
      "name": "python"
    }
  },
  "cells": [
    {
      "cell_type": "markdown",
      "metadata": {
        "id": "view-in-github",
        "colab_type": "text"
      },
      "source": [
        "<a href=\"https://colab.research.google.com/github/amimulhasan/python/blob/main/Nested_List_Element_Access.ipynb\" target=\"_parent\"><img src=\"https://colab.research.google.com/assets/colab-badge.svg\" alt=\"Open In Colab\"/></a>"
      ]
    },
    {
      "cell_type": "code",
      "execution_count": null,
      "metadata": {
        "id": "cNeEx0BRFB1p"
      },
      "outputs": [],
      "source": [
        "# 59. Nested List Element Access: Given a nested list, write a Python program to access and print specific elements from it.\n",
        "# Define a nested list\n",
        "nested_list = [\n",
        "    [1, 2, 3],\n",
        "    [4, 5, ['a', 'b', 'c']],\n",
        "    [6, 7, 8]\n",
        "]\n",
        "\n",
        "# Access and print specific elements\n",
        "print(\"First element of first list:\", nested_list[0][0])        # Output: 1\n",
        "print(\"Second element of second list:\", nested_list[1][1])      # Output: 5\n",
        "print(\"Third element of third list:\", nested_list[2][2])        # Output: 8\n",
        "print(\"Second element of nested list in second list:\", nested_list[1][2][1])  # Output: 'b'\n",
        "\n",
        "\n"
      ]
    }
  ]
}