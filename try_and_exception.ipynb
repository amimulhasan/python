{
  "nbformat": 4,
  "nbformat_minor": 0,
  "metadata": {
    "colab": {
      "provenance": [],
      "authorship_tag": "ABX9TyPGrddAvvP72LIp07kfcLQF",
      "include_colab_link": true
    },
    "kernelspec": {
      "name": "python3",
      "display_name": "Python 3"
    },
    "language_info": {
      "name": "python"
    }
  },
  "cells": [
    {
      "cell_type": "markdown",
      "metadata": {
        "id": "view-in-github",
        "colab_type": "text"
      },
      "source": [
        "<a href=\"https://colab.research.google.com/github/amimulhasan/python/blob/main/try_and_exception.ipynb\" target=\"_parent\"><img src=\"https://colab.research.google.com/assets/colab-badge.svg\" alt=\"Open In Colab\"/></a>"
      ]
    },
    {
      "cell_type": "code",
      "execution_count": 1,
      "metadata": {
        "colab": {
          "base_uri": "https://localhost:8080/"
        },
        "id": "cKWvVHHZ_vdJ",
        "outputId": "14be03d7-5518-494f-9257-4e1875156b96"
      },
      "outputs": [
        {
          "output_type": "stream",
          "name": "stdout",
          "text": [
            "unsupported operand type(s) for +: 'int' and 'str'\n"
          ]
        }
      ],
      "source": [
        "try:\n",
        "  # code block where exception can occur\n",
        "  a=1\n",
        "  b='s'\n",
        "  c=a+b\n",
        "except NameError as ex1:\n",
        "  print('The user have not define the variable')\n",
        "except Exception as ex:\n",
        "  print(ex)\n"
      ]
    },
    {
      "cell_type": "code",
      "source": [
        "a=b"
      ],
      "metadata": {
        "id": "O8Q9hiaRA0kB"
      },
      "execution_count": 2,
      "outputs": []
    },
    {
      "cell_type": "code",
      "source": [
        "a=1\n",
        "b='s'\n",
        "c=a+b"
      ],
      "metadata": {
        "colab": {
          "base_uri": "https://localhost:8080/",
          "height": 176
        },
        "id": "hbpUL1yIBOsX",
        "outputId": "4bd3b92c-8436-494a-c62a-06c4cf902332"
      },
      "execution_count": 3,
      "outputs": [
        {
          "output_type": "error",
          "ename": "TypeError",
          "evalue": "unsupported operand type(s) for +: 'int' and 'str'",
          "traceback": [
            "\u001b[0;31m---------------------------------------------------------------------------\u001b[0m",
            "\u001b[0;31mTypeError\u001b[0m                                 Traceback (most recent call last)",
            "\u001b[0;32m<ipython-input-3-b5351790d4cc>\u001b[0m in \u001b[0;36m<cell line: 0>\u001b[0;34m()\u001b[0m\n\u001b[1;32m      1\u001b[0m \u001b[0ma\u001b[0m\u001b[0;34m=\u001b[0m\u001b[0;36m1\u001b[0m\u001b[0;34m\u001b[0m\u001b[0;34m\u001b[0m\u001b[0m\n\u001b[1;32m      2\u001b[0m \u001b[0mb\u001b[0m\u001b[0;34m=\u001b[0m\u001b[0;34m's'\u001b[0m\u001b[0;34m\u001b[0m\u001b[0;34m\u001b[0m\u001b[0m\n\u001b[0;32m----> 3\u001b[0;31m \u001b[0mc\u001b[0m\u001b[0;34m=\u001b[0m\u001b[0ma\u001b[0m\u001b[0;34m+\u001b[0m\u001b[0mb\u001b[0m\u001b[0;34m\u001b[0m\u001b[0;34m\u001b[0m\u001b[0m\n\u001b[0m",
            "\u001b[0;31mTypeError\u001b[0m: unsupported operand type(s) for +: 'int' and 'str'"
          ]
        }
      ]
    },
    {
      "cell_type": "code",
      "source": [
        "try:\n",
        "  # code block where exception can occur\n",
        "  a=int(input('Enter the number 1'))\n",
        "  b=int(input('Enter the number 2'))\n",
        "  c=a+b\n",
        "  d=a*b\n",
        "  e=a/b\n",
        "except NameError:\n",
        "  print('The user have not define the variable')\n",
        "except ZeroDivisionError:\n",
        "  print('Please provide number greater than 0')\n",
        "except TypeError:\n",
        "  print('Try to make the datatype similar')\n",
        "except Exception as ex:\n",
        "  print(ex)\n",
        "else:\n",
        "  print(c)\n",
        "  print(d)\n",
        "  print(e)"
      ],
      "metadata": {
        "colab": {
          "base_uri": "https://localhost:8080/"
        },
        "id": "F4lkL0DdBXCv",
        "outputId": "e60d15c7-29ca-4a7b-9426-db85781d961c"
      },
      "execution_count": 4,
      "outputs": [
        {
          "output_type": "stream",
          "name": "stdout",
          "text": [
            "Enter the number 112\n",
            "Enter the number 24\n",
            "16\n",
            "48\n",
            "3.0\n"
          ]
        }
      ]
    },
    {
      "cell_type": "code",
      "source": [
        "try:\n",
        "  # code block where exception can occur\n",
        "  a=int(input('Enter the number 1'))\n",
        "  b=int(input('Enter the number 2'))\n",
        "  c=a+b\n",
        "  d=a*b\n",
        "  e=a/b\n",
        "except NameError:\n",
        "  print('The user have not define the variable')\n",
        "except ZeroDivisionError:\n",
        "  print('Please provide number greater than 0')\n",
        "except TypeError:\n",
        "  print('Try to make the datatype similar')\n",
        "except Exception as ex:\n",
        "  print(ex)\n",
        "else:\n",
        "  print(c)\n",
        "  print(d)\n",
        "  print(e)\n",
        "finally:\n",
        "  print('The execution is done')"
      ],
      "metadata": {
        "colab": {
          "base_uri": "https://localhost:8080/"
        },
        "id": "dYWtKKNnC6kK",
        "outputId": "00f81aa2-3311-48c7-9957-37c4f20c0b9d"
      },
      "execution_count": 5,
      "outputs": [
        {
          "output_type": "stream",
          "name": "stdout",
          "text": [
            "Enter the number 112\n",
            "Enter the number 20\n",
            "Please provide number greater than 0\n",
            "The execution is done\n"
          ]
        }
      ]
    },
    {
      "cell_type": "code",
      "source": [],
      "metadata": {
        "id": "g3-n-ku_DQz3"
      },
      "execution_count": 5,
      "outputs": []
    }
  ]
}