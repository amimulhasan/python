{
  "nbformat": 4,
  "nbformat_minor": 0,
  "metadata": {
    "colab": {
      "provenance": [],
      "authorship_tag": "ABX9TyPsPGuNcVic6vabZ4dQmE16",
      "include_colab_link": true
    },
    "kernelspec": {
      "name": "python3",
      "display_name": "Python 3"
    },
    "language_info": {
      "name": "python"
    }
  },
  "cells": [
    {
      "cell_type": "markdown",
      "metadata": {
        "id": "view-in-github",
        "colab_type": "text"
      },
      "source": [
        "<a href=\"https://colab.research.google.com/github/amimulhasan/python/blob/main/List_Average.ipynb\" target=\"_parent\"><img src=\"https://colab.research.google.com/assets/colab-badge.svg\" alt=\"Open In Colab\"/></a>"
      ]
    },
    {
      "cell_type": "code",
      "execution_count": null,
      "metadata": {
        "id": "Qej_F28wvlUd"
      },
      "outputs": [],
      "source": [
        "# 35. List Average: Write a Python program to calculate the average of all elements in a given list of integers.\n",
        "# Program to calculate average of elements in a list\n",
        "\n",
        "# Sample list of integers\n",
        "numbers = [10, 20, 30, 40, 50]\n",
        "\n",
        "# Check if the list is not empty\n",
        "if len(numbers) == 0:\n",
        "    print(\"The list is empty. Cannot calculate average.\")\n",
        "else:\n",
        "    total = sum(numbers)\n",
        "    count = len(numbers)\n",
        "    average = total / count\n",
        "    print(\"The average of the list is:\", average)\n",
        "\n"
      ]
    }
  ]
}