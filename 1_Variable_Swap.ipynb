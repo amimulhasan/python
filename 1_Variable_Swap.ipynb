{
  "nbformat": 4,
  "nbformat_minor": 0,
  "metadata": {
    "colab": {
      "provenance": [],
      "authorship_tag": "ABX9TyNJuhICMvaMoOOQvnhggXGy",
      "include_colab_link": true
    },
    "kernelspec": {
      "name": "python3",
      "display_name": "Python 3"
    },
    "language_info": {
      "name": "python"
    }
  },
  "cells": [
    {
      "cell_type": "markdown",
      "metadata": {
        "id": "view-in-github",
        "colab_type": "text"
      },
      "source": [
        "<a href=\"https://colab.research.google.com/github/amimulhasan/python/blob/main/1_Variable_Swap.ipynb\" target=\"_parent\"><img src=\"https://colab.research.google.com/assets/colab-badge.svg\" alt=\"Open In Colab\"/></a>"
      ]
    },
    {
      "cell_type": "code",
      "execution_count": null,
      "metadata": {
        "id": "a8yV4Cx8UJYI"
      },
      "outputs": [],
      "source": [
        "# Input two variables\n",
        "a = int(input(\"Enter value for a: \"))\n",
        "b = int(input(\"Enter value for b: \"))\n",
        "\n",
        "# Swapping without a temporary variable\n",
        "a, b = b, a\n",
        "\n",
        "# Output the result\n",
        "print(\"After swapping:\")\n",
        "print(\"a =\", a)\n",
        "print(\"b =\", b)\n"
      ]
    },
    {
      "cell_type": "code",
      "source": [],
      "metadata": {
        "id": "0l9LcG0yUQ-n"
      },
      "execution_count": null,
      "outputs": []
    }
  ]
}