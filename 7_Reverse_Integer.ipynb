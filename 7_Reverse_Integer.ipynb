{
  "nbformat": 4,
  "nbformat_minor": 0,
  "metadata": {
    "colab": {
      "provenance": [],
      "authorship_tag": "ABX9TyP0ixKMjEkdYjVPuw45+09f",
      "include_colab_link": true
    },
    "kernelspec": {
      "name": "python3",
      "display_name": "Python 3"
    },
    "language_info": {
      "name": "python"
    }
  },
  "cells": [
    {
      "cell_type": "markdown",
      "metadata": {
        "id": "view-in-github",
        "colab_type": "text"
      },
      "source": [
        "<a href=\"https://colab.research.google.com/github/amimulhasan/python/blob/main/7_Reverse_Integer.ipynb\" target=\"_parent\"><img src=\"https://colab.research.google.com/assets/colab-badge.svg\" alt=\"Open In Colab\"/></a>"
      ]
    },
    {
      "cell_type": "code",
      "execution_count": 1,
      "metadata": {
        "id": "nTJQaESkMk5r"
      },
      "outputs": [],
      "source": [
        "class Solution:\n",
        "    def reverse(self, x: int) -> int:\n",
        "        INT_MIN, INT_MAX = -2**31, 2**31 - 1  # define 32-bit integer range\n",
        "\n",
        "        sign = -1 if x < 0 else 1\n",
        "        x = abs(x)\n",
        "        rev = 0\n",
        "\n",
        "        while x != 0:\n",
        "            digit = x % 10\n",
        "            x //= 10\n",
        "\n",
        "            # check overflow before multiplying by 10\n",
        "            if rev > (INT_MAX - digit) // 10:\n",
        "                return 0\n",
        "\n",
        "            rev = rev * 10 + digit\n",
        "\n",
        "        return sign * rev\n"
      ]
    },
    {
      "cell_type": "code",
      "source": [
        "x = -123\n",
        "print(Solution().reverse(x))\n"
      ],
      "metadata": {
        "colab": {
          "base_uri": "https://localhost:8080/"
        },
        "id": "-Pi9I1oTMmDJ",
        "outputId": "fe657b93-2b49-4967-e238-333cc4a3c0d0"
      },
      "execution_count": 2,
      "outputs": [
        {
          "output_type": "stream",
          "name": "stdout",
          "text": [
            "-321\n"
          ]
        }
      ]
    },
    {
      "cell_type": "code",
      "source": [],
      "metadata": {
        "id": "mN5-8IUCMmGT"
      },
      "execution_count": null,
      "outputs": []
    }
  ]
}