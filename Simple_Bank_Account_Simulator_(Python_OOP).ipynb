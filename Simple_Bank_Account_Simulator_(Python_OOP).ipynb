{
  "nbformat": 4,
  "nbformat_minor": 0,
  "metadata": {
    "colab": {
      "provenance": [],
      "authorship_tag": "ABX9TyNOnqS8xcmWd7hd9kPgcbmN",
      "include_colab_link": true
    },
    "kernelspec": {
      "name": "python3",
      "display_name": "Python 3"
    },
    "language_info": {
      "name": "python"
    }
  },
  "cells": [
    {
      "cell_type": "markdown",
      "metadata": {
        "id": "view-in-github",
        "colab_type": "text"
      },
      "source": [
        "<a href=\"https://colab.research.google.com/github/amimulhasan/python/blob/main/Simple_Bank_Account_Simulator_(Python_OOP).ipynb\" target=\"_parent\"><img src=\"https://colab.research.google.com/assets/colab-badge.svg\" alt=\"Open In Colab\"/></a>"
      ]
    },
    {
      "cell_type": "code",
      "execution_count": 6,
      "metadata": {
        "colab": {
          "base_uri": "https://localhost:8080/"
        },
        "id": "Nawq6Ogpuz0R",
        "outputId": "d633383d-5f8a-486a-85ed-c05ad5a0ce7d"
      },
      "outputs": [
        {
          "output_type": "stream",
          "name": "stdout",
          "text": [
            "Enter your name: amimul\n",
            "\n",
            "===== Bank Account Menu =====\n",
            "1. Deposit\n",
            "2. Withdraw\n",
            "3. Check Balance\n",
            "4. Exit\n",
            "Choose an option: 1\n",
            "Enter amount to deposit: 200000\n",
            "✅ Deposited 200000.0. New balance: 200000.0\n",
            "\n",
            "===== Bank Account Menu =====\n",
            "1. Deposit\n",
            "2. Withdraw\n",
            "3. Check Balance\n",
            "4. Exit\n",
            "Choose an option: 4\n",
            "👋 Goodbye, amimul!\n"
          ]
        }
      ],
      "source": [
        "class BankAccount:\n",
        "    def __init__(self, owner, balance=0):\n",
        "        self.owner = owner\n",
        "        self.balance = balance\n",
        "\n",
        "    def deposit(self, amount):\n",
        "        if amount > 0:\n",
        "            self.balance += amount\n",
        "            print(f\"✅ Deposited {amount}. New balance: {self.balance}\")\n",
        "        else:\n",
        "            print(\"⚠️ Enter a valid amount.\")\n",
        "\n",
        "    def withdraw(self, amount):\n",
        "        if amount > self.balance:\n",
        "            print(\"❌ Insufficient balance.\")\n",
        "        elif amount <= 0:\n",
        "            print(\"⚠️ Enter a valid amount.\")\n",
        "        else:\n",
        "            self.balance -= amount\n",
        "            print(f\"✅ Withdrawn {amount}. New balance: {self.balance}\")\n",
        "\n",
        "    def check_balance(self):\n",
        "        print(f\"💰 Current balance: {self.balance}\")\n",
        "\n",
        "\n",
        "# Main Program\n",
        "name = input(\"Enter your name: \")\n",
        "account = BankAccount(name)\n",
        "\n",
        "while True:\n",
        "    print(\"\\n===== Bank Account Menu =====\")\n",
        "    print(\"1. Deposit\")\n",
        "    print(\"2. Withdraw\")\n",
        "    print(\"3. Check Balance\")\n",
        "    print(\"4. Exit\")\n",
        "\n",
        "    choice = input(\"Choose an option: \")\n",
        "\n",
        "    if choice == '1':\n",
        "        amount = float(input(\"Enter amount to deposit: \"))\n",
        "        account.deposit(amount)\n",
        "\n",
        "    elif choice == '2':\n",
        "        amount = float(input(\"Enter amount to withdraw: \"))\n",
        "        account.withdraw(amount)\n",
        "\n",
        "    elif choice == '3':\n",
        "        account.check_balance()\n",
        "\n",
        "    elif choice == '4':\n",
        "        print(f\"👋 Goodbye, {name}!\")\n",
        "        break\n",
        "\n",
        "    else:\n",
        "        print(\"⚠️ Invalid choice, try again.\")\n"
      ]
    },
    {
      "cell_type": "code",
      "source": [
        "class BankAccount:\n",
        "  def __init__(self,owner,balance=0):\n",
        "    self.owner=owner\n",
        "    self.balance=balance\n",
        "  def deposit(self,amount):\n",
        "    if amount>0:\n",
        "      self.balance +=amount\n",
        "      print(f'Deposit amount:{amount}.New balance:{self.balance}.')\n",
        "    else:\n",
        "      print('Enter a valid number.')\n",
        "  def withdraw(self,amount):\n",
        "    if amount>self.balance:\n",
        "      print(\"Insaficient balance.\")\n",
        "    elif amount<=0:\n",
        "      print(\"Enter a valid amount.\")\n",
        "    else:\n",
        "      self.balance -=amount\n",
        "      print(f\"withdraw amount:{amount}.New balance:{self.balance}.\")\n",
        "  def check_balance(self):\n",
        "    print(f\"current Balance:{self.balance}\")\n",
        "name=input(\"Enter your name:\")\n",
        "account=BankAccount(name)\n",
        "while True:\n",
        "  print(\"Bank account Menu\")\n",
        "  print(\"1.Deposit\")\n",
        "  print(\"2.Widthdraw\")\n",
        "  print(\"3.Check Balance.\")\n",
        "  print('4.Exit')\n",
        "  choice=input(\"Choice the option:\")\n",
        "  if choice=='1':\n",
        "    amount=float(input(\"enter a amount to deposit:\"))\n",
        "    account.deposit(amount)\n",
        "  elif choice=='2':\n",
        "    account=float(input(\"enter a amount to withdraw:\"))\n",
        "    account.withdraw(amount)\n",
        "  elif choice==3:\n",
        "    account.check_balance()\n",
        "  elif choice=='4':\n",
        "    print(f\"Goodbye {name}\")\n",
        "    break\n",
        "  else:\n",
        "    print('Invalid option.Try again.')\n",
        ""
      ],
      "metadata": {
        "colab": {
          "base_uri": "https://localhost:8080/"
        },
        "id": "-M3r3HgDvL2x",
        "outputId": "4e0afe2a-d324-4db1-c346-a633a95f82c4"
      },
      "execution_count": 10,
      "outputs": [
        {
          "output_type": "stream",
          "name": "stdout",
          "text": [
            "Enter your name:a\n",
            "Bank account Menu\n",
            "1.Deposit\n",
            "2.Widthdraw\n",
            "3.Check Balance.\n",
            "4.Exit\n",
            "Choice the option:4\n",
            "Goodbye a\n"
          ]
        }
      ]
    }
  ]
}