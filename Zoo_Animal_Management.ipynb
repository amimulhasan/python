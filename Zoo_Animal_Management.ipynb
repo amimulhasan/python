{
  "nbformat": 4,
  "nbformat_minor": 0,
  "metadata": {
    "colab": {
      "provenance": [],
      "authorship_tag": "ABX9TyNTYS3cChQTn9WnWT472du9",
      "include_colab_link": true
    },
    "kernelspec": {
      "name": "python3",
      "display_name": "Python 3"
    },
    "language_info": {
      "name": "python"
    }
  },
  "cells": [
    {
      "cell_type": "markdown",
      "metadata": {
        "id": "view-in-github",
        "colab_type": "text"
      },
      "source": [
        "<a href=\"https://colab.research.google.com/github/amimulhasan/python/blob/main/Zoo_Animal_Management.ipynb\" target=\"_parent\"><img src=\"https://colab.research.google.com/assets/colab-badge.svg\" alt=\"Open In Colab\"/></a>"
      ]
    },
    {
      "cell_type": "code",
      "execution_count": 1,
      "metadata": {
        "colab": {
          "base_uri": "https://localhost:8080/"
        },
        "id": "pnGIe0ggFFc0",
        "outputId": "15dd29af-cd12-4e94-cbca-c642e4f5500c"
      },
      "outputs": [
        {
          "output_type": "stream",
          "name": "stdout",
          "text": [
            "\n",
            "===== 🐾 Zoo Management Menu =====\n",
            "1. Add Animal\n",
            "2. View All Animals\n",
            "3. Exit\n",
            "Choose an option: 3\n",
            "👋 Exiting Zoo Manager. Have a wild day!\n"
          ]
        }
      ],
      "source": [
        "class Animal:\n",
        "    def __init__(self, name, species, health_status):\n",
        "        self.name = name\n",
        "        self.species = species\n",
        "        self.health_status = health_status\n",
        "\n",
        "    def display_info(self):\n",
        "        print(f\"🦁 Name: {self.name}, Species: {self.species}, Health: {self.health_status}\")\n",
        "\n",
        "\n",
        "class Zoo:\n",
        "    def __init__(self):\n",
        "        self.animals = []\n",
        "\n",
        "    def add_animal(self, animal):\n",
        "        self.animals.append(animal)\n",
        "        print(\"✅ Animal added to the zoo!\")\n",
        "\n",
        "    def view_animals(self):\n",
        "        if not self.animals:\n",
        "            print(\"❌ No animals in the zoo yet.\")\n",
        "        else:\n",
        "            print(\"\\n📋 Zoo Animal List:\")\n",
        "            for animal in self.animals:\n",
        "                animal.display_info()\n",
        "\n",
        "\n",
        "# Main Program\n",
        "zoo = Zoo()\n",
        "\n",
        "while True:\n",
        "    print(\"\\n===== 🐾 Zoo Management Menu =====\")\n",
        "    print(\"1. Add Animal\")\n",
        "    print(\"2. View All Animals\")\n",
        "    print(\"3. Exit\")\n",
        "\n",
        "    choice = input(\"Choose an option: \")\n",
        "\n",
        "    if choice == '1':\n",
        "        name = input(\"Enter animal name: \")\n",
        "        species = input(\"Enter species: \")\n",
        "        health = input(\"Enter health status (e.g., Good, Sick): \")\n",
        "        new_animal = Animal(name, species, health)\n",
        "        zoo.add_animal(new_animal)\n",
        "\n",
        "    elif choice == '2':\n",
        "        zoo.view_animals()\n",
        "\n",
        "    elif choice == '3':\n",
        "        print(\"👋 Exiting Zoo Manager. Have a wild day!\")\n",
        "        break\n",
        "\n",
        "    else:\n",
        "        print(\"⚠️ Invalid choice. Try again.\")\n"
      ]
    },
    {
      "cell_type": "code",
      "source": [
        "class animal:\n",
        "  def __init__(self,name,species,health_status):\n",
        "    self.name=name\n",
        "    self.species=species\n",
        "    self.health_status=health_status\n",
        "  def display_info(self):\n",
        "    print(f\"name:{self.name},species:{self.species},health_status:{self.health_status}\")\n",
        "class Zoo:\n",
        "  def __init__(self):\n",
        "    self.animals=[]\n",
        "  def add_animal(self,animal):\n",
        "    self.amimals.append(animal)\n",
        "    print(\"Animal added to the zoo.\")\n",
        "  def view_animals(self):\n",
        "    if not self.animals:\n",
        "      print(\"no animal in the zoo yet.\")\n",
        "    else:\n",
        "      print(\"Zoo animal list.\")\n",
        "      for animal in self.animals:\n",
        "        animal.display_info()\n",
        "zoo=Zoo()\n",
        "while True:\n",
        "  print(\"1.Add animal.\")\n",
        "  print(\"2.View all animals.\")\n",
        "  print(\"3.Exit.\")\n",
        "  choice=input(\"Choice the number:\")\n",
        "  if choice=='1':\n",
        "    name=input(\"Enter animal name:\")\n",
        "    species=input(\"Enter species:\")\n",
        "    health_status=input(\"Enter health_status:\")\n",
        "    new_animal=Animal(name,species,health_status)\n",
        "    zoo.add_animal(new_animal)\n",
        "  elif choice=='2':\n",
        "    zoo.view_animals()\n",
        "  elif choice=='3':\n",
        "    print(\"Exiting the program.\")\n",
        "    break\n",
        "  else:\n",
        "    print(\"invalid program.Try again.\")"
      ],
      "metadata": {
        "colab": {
          "base_uri": "https://localhost:8080/"
        },
        "id": "adxXnCLIFWTQ",
        "outputId": "37b88ee5-a0e9-4b60-f44f-dcd86b79fe9c"
      },
      "execution_count": 2,
      "outputs": [
        {
          "output_type": "stream",
          "name": "stdout",
          "text": [
            "1.Add animal.\n",
            "2.View all animals.\n",
            "3.Exit.\n",
            "Choice the number:3\n",
            "Exiting the program.\n"
          ]
        }
      ]
    },
    {
      "cell_type": "code",
      "source": [],
      "metadata": {
        "id": "csqSq-YtIrG2"
      },
      "execution_count": null,
      "outputs": []
    }
  ]
}