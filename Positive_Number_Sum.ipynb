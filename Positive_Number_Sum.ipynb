{
  "nbformat": 4,
  "nbformat_minor": 0,
  "metadata": {
    "colab": {
      "provenance": [],
      "authorship_tag": "ABX9TyPQhpMSF3tsncR6ocbjbBH7",
      "include_colab_link": true
    },
    "kernelspec": {
      "name": "python3",
      "display_name": "Python 3"
    },
    "language_info": {
      "name": "python"
    }
  },
  "cells": [
    {
      "cell_type": "markdown",
      "metadata": {
        "id": "view-in-github",
        "colab_type": "text"
      },
      "source": [
        "<a href=\"https://colab.research.google.com/github/amimulhasan/python/blob/main/Positive_Number_Sum.ipynb\" target=\"_parent\"><img src=\"https://colab.research.google.com/assets/colab-badge.svg\" alt=\"Open In Colab\"/></a>"
      ]
    },
    {
      "cell_type": "code",
      "execution_count": null,
      "metadata": {
        "id": "qpGXWbyzPi5H"
      },
      "outputs": [],
      "source": [
        "'''Write a Python program that takes positive numbers as input until a negative number is entered.\n",
        "Then, calculate and print the sum of all positive numbers entered.\n",
        "Use a `while` loop and `break` to exit the loop when a negative number is encountered.'''\n",
        "\n",
        "\n",
        "# Initialize the sum to 0\n",
        "total_sum = 0\n",
        "\n",
        "print(\"Enter positive numbers one by one. Enter a negative number to stop.\")\n",
        "\n",
        "while True:\n",
        "    try:\n",
        "        number = float(input(\"Enter a number: \"))\n",
        "\n",
        "        if number < 0:\n",
        "            print(\"Negative number entered. Exiting the loop.\")\n",
        "            break  # Exit the loop when a negative number is entered\n",
        "\n",
        "        total_sum += number  # Add the positive number to the total\n",
        "    except ValueError:\n",
        "        print(\"Invalid input. Please enter a valid number.\")\n",
        "\n",
        "# Print the total sum of all positive numbers\n",
        "print(\"The sum of all positive numbers entered is:\", total_sum)\n",
        "\n"
      ]
    },
    {
      "cell_type": "code",
      "source": [
        "total_sum=0\n",
        "print('Enter positive number one by one.Enter a negative number to stop.')\n",
        "while True:\n",
        "  try:\n",
        "    number=float(input(\"Enter a number:\"))\n",
        "    if number <0:\n",
        "      print(\"Negative number entered.Existing the loop.\")\n",
        "      break\n",
        "    total_sum+=number\n",
        "\n",
        "  except ValueError:\n",
        "    print(\"Invalid input.Please enter a valid number.\")\n",
        "print(\"The sum of all positive numbers entered is:\",total_sum)"
      ],
      "metadata": {
        "colab": {
          "base_uri": "https://localhost:8080/"
        },
        "id": "tRjw8woMQJ2k",
        "outputId": "1dcbf500-6826-42ef-fb20-f8c4d5691418"
      },
      "execution_count": 1,
      "outputs": [
        {
          "output_type": "stream",
          "name": "stdout",
          "text": [
            "Enter positive number one by one.Enter a negative number to stop.\n",
            "Enter a number:1,2,3\n",
            "Invalid input.Please enter a valid number.\n",
            "Enter a number:3\n",
            "Enter a number:4\n",
            "Enter a number:5\n",
            "Enter a number:23\n",
            "Enter a number:-2\n",
            "Negative number entered.Existing the loop.\n",
            "The sum of all positive numbers entered is: 35.0\n"
          ]
        }
      ]
    },
    {
      "cell_type": "code",
      "source": [],
      "metadata": {
        "id": "LPHsYrZ1RSt-"
      },
      "execution_count": null,
      "outputs": []
    }
  ]
}