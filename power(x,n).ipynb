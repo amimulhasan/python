{
  "nbformat": 4,
  "nbformat_minor": 0,
  "metadata": {
    "colab": {
      "provenance": [],
      "authorship_tag": "ABX9TyOxN1h0c3tQlGscU9pj34vP",
      "include_colab_link": true
    },
    "kernelspec": {
      "name": "python3",
      "display_name": "Python 3"
    },
    "language_info": {
      "name": "python"
    }
  },
  "cells": [
    {
      "cell_type": "markdown",
      "metadata": {
        "id": "view-in-github",
        "colab_type": "text"
      },
      "source": [
        "<a href=\"https://colab.research.google.com/github/amimulhasan/python/blob/main/power(x%2Cn).ipynb\" target=\"_parent\"><img src=\"https://colab.research.google.com/assets/colab-badge.svg\" alt=\"Open In Colab\"/></a>"
      ]
    },
    {
      "cell_type": "code",
      "execution_count": 1,
      "metadata": {
        "id": "3B34g62B_JuU"
      },
      "outputs": [],
      "source": [
        "def my_pow(x: float, n: int) -> float:\n",
        "    if n == 0:\n",
        "        return 1\n",
        "    if n < 0:\n",
        "        x = 1 / x\n",
        "        n = -n\n",
        "\n",
        "    result = 1\n",
        "    while n:\n",
        "        if n % 2 == 1:\n",
        "            result *= x\n",
        "        x *= x\n",
        "        n //= 2\n",
        "    return result\n"
      ]
    },
    {
      "cell_type": "code",
      "source": [
        "print(my_pow(2.00000, 10))\n"
      ],
      "metadata": {
        "colab": {
          "base_uri": "https://localhost:8080/"
        },
        "id": "8pwxZ8pY_ejj",
        "outputId": "23d2d22b-d407-4834-90a4-5444e25b913e"
      },
      "execution_count": 2,
      "outputs": [
        {
          "output_type": "stream",
          "name": "stdout",
          "text": [
            "1024.0\n"
          ]
        }
      ]
    }
  ]
}