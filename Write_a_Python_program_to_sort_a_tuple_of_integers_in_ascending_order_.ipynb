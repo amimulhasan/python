{
  "nbformat": 4,
  "nbformat_minor": 0,
  "metadata": {
    "colab": {
      "provenance": [],
      "authorship_tag": "ABX9TyMtdDP5YuhJQ1kGYpPM4PfF",
      "include_colab_link": true
    },
    "kernelspec": {
      "name": "python3",
      "display_name": "Python 3"
    },
    "language_info": {
      "name": "python"
    }
  },
  "cells": [
    {
      "cell_type": "markdown",
      "metadata": {
        "id": "view-in-github",
        "colab_type": "text"
      },
      "source": [
        "<a href=\"https://colab.research.google.com/github/amimulhasan/python/blob/main/Write_a_Python_program_to_sort_a_tuple_of_integers_in_ascending_order_.ipynb\" target=\"_parent\"><img src=\"https://colab.research.google.com/assets/colab-badge.svg\" alt=\"Open In Colab\"/></a>"
      ]
    },
    {
      "cell_type": "code",
      "execution_count": 2,
      "metadata": {
        "colab": {
          "base_uri": "https://localhost:8080/"
        },
        "id": "09Ic_hmjaSNu",
        "outputId": "b0089143-bece-4ab3-a3fa-7e69759e66ea"
      },
      "outputs": [
        {
          "output_type": "stream",
          "name": "stdout",
          "text": [
            "(2, 4, 5, 6, 6, 8, 9, 11, 34, 67)\n"
          ]
        }
      ],
      "source": [
        "# Write a Python program to sort a tuple of integers in ascending order.\n",
        "my_tupple=(2,8,9,4,5,6,11,34,67,6)\n",
        "sorted_tuple=tuple(sorted(my_tupple))\n",
        "print(sorted_tuple)"
      ]
    },
    {
      "cell_type": "code",
      "source": [],
      "metadata": {
        "id": "HHKcO1Qabi0v"
      },
      "execution_count": null,
      "outputs": []
    }
  ]
}